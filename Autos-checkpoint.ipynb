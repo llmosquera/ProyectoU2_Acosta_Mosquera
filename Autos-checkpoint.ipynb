{
 "cells": [
  {
   "cell_type": "code",
   "execution_count": 2,
   "metadata": {
    "colab": {
     "base_uri": "https://localhost:8080/"
    },
    "id": "k-veozmsZRSo",
    "outputId": "87b033d4-62b8-4e86-ed19-7d330cac148a"
   },
   "outputs": [
    {
     "name": "stdout",
     "output_type": "stream",
     "text": [
      "Drive already mounted at /content/gdrive; to attempt to forcibly remount, call drive.mount(\"/content/gdrive\", force_remount=True).\n"
     ]
    }
   ],
   "source": [
    "# importar librerias y datos \n",
    "#from google.colab import drive\n",
    "#drive.mount('/content/gdrive')\n",
    "\n",
    "# Importacion de librerias\n",
    "import numpy as np\n",
    "import matplotlib.pyplot as plt\n",
    "import pandas as pd"
   ]
  },
  {
   "cell_type": "code",
   "execution_count": 6,
   "metadata": {
    "colab": {
     "base_uri": "https://localhost:8080/"
    },
    "id": "HsmNVI-c8Xer",
    "outputId": "bb60ee2e-4176-4fa8-ae4b-15c1b01b1e04"
   },
   "outputs": [
    {
     "name": "stderr",
     "output_type": "stream",
     "text": [
      "/usr/local/lib/python3.7/dist-packages/IPython/core/interactiveshell.py:2882: FutureWarning: The error_bad_lines argument has been deprecated and will be removed in a future version.\n",
      "\n",
      "\n",
      "  exec(code_obj, self.user_global_ns, self.user_ns)\n",
      "b'Skipping line 408163: expected 16 fields, saw 17\\nSkipping line 417837: expected 16 fields, saw 17\\nSkipping line 421291: expected 16 fields, saw 17\\nSkipping line 424163: expected 16 fields, saw 17\\n'\n",
      "b'Skipping line 427042: expected 16 fields, saw 17\\nSkipping line 427045: expected 16 fields, saw 17\\nSkipping line 434426: expected 16 fields, saw 17\\nSkipping line 444503: expected 16 fields, saw 17\\nSkipping line 453796: expected 16 fields, saw 17\\n'\n",
      "b'Skipping line 461599: expected 16 fields, saw 17\\nSkipping line 461614: expected 16 fields, saw 17\\n'\n",
      "b'Skipping line 492486: expected 16 fields, saw 17\\nSkipping line 497010: expected 16 fields, saw 17\\nSkipping line 497013: expected 16 fields, saw 17\\nSkipping line 499085: expected 16 fields, saw 17\\nSkipping line 501457: expected 16 fields, saw 17\\nSkipping line 505301: expected 16 fields, saw 17\\nSkipping line 505308: expected 16 fields, saw 17\\nSkipping line 520463: expected 16 fields, saw 17\\n'\n",
      "b'Skipping line 528998: expected 16 fields, saw 17\\nSkipping line 529011: expected 16 fields, saw 17\\nSkipping line 529015: expected 16 fields, saw 17\\nSkipping line 529624: expected 16 fields, saw 17\\nSkipping line 548786: expected 16 fields, saw 17\\nSkipping line 551224: expected 16 fields, saw 17\\nSkipping line 554712: expected 16 fields, saw 17\\n'\n"
     ]
    }
   ],
   "source": [
    "archivo = '/content/gdrive/MyDrive/Ai Espe/Data/car_prices.csv'\n",
    "datos = pd.read_csv(archivo, error_bad_lines=False)"
   ]
  },
  {
   "cell_type": "code",
   "execution_count": 7,
   "metadata": {
    "colab": {
     "base_uri": "https://localhost:8080/"
    },
    "id": "IGrvbIZN-8qz",
    "outputId": "ca471c79-595e-4fc8-8013-154cc40f2400"
   },
   "outputs": [
    {
     "data": {
      "text/plain": [
       "year                34\n",
       "make                96\n",
       "model              973\n",
       "trim              1975\n",
       "body                86\n",
       "transmission         2\n",
       "vin             550296\n",
       "state               38\n",
       "condition           41\n",
       "odometer        172277\n",
       "color               20\n",
       "interior            17\n",
       "seller           14264\n",
       "mmr               1101\n",
       "sellingprice      1887\n",
       "saledate          3745\n",
       "dtype: int64"
      ]
     },
     "execution_count": 7,
     "metadata": {},
     "output_type": "execute_result"
    }
   ],
   "source": [
    "datos.nunique()"
   ]
  },
  {
   "cell_type": "code",
   "execution_count": 8,
   "metadata": {
    "colab": {
     "base_uri": "https://localhost:8080/"
    },
    "id": "dMmn-5ba--yQ",
    "outputId": "d78dbe1c-01a3-4dc1-c622-231b8e8ea89f"
   },
   "outputs": [
    {
     "name": "stdout",
     "output_type": "stream",
     "text": [
      "<class 'pandas.core.frame.DataFrame'>\n",
      "RangeIndex: 558811 entries, 0 to 558810\n",
      "Data columns (total 16 columns):\n",
      " #   Column        Non-Null Count   Dtype  \n",
      "---  ------        --------------   -----  \n",
      " 0   year          558811 non-null  int64  \n",
      " 1   make          548510 non-null  object \n",
      " 2   model         548412 non-null  object \n",
      " 3   trim          548160 non-null  object \n",
      " 4   body          545616 non-null  object \n",
      " 5   transmission  493458 non-null  object \n",
      " 6   vin           558811 non-null  object \n",
      " 7   state         558811 non-null  object \n",
      " 8   condition     547017 non-null  float64\n",
      " 9   odometer      558717 non-null  float64\n",
      " 10  color         558062 non-null  object \n",
      " 11  interior      558062 non-null  object \n",
      " 12  seller        558811 non-null  object \n",
      " 13  mmr           558811 non-null  int64  \n",
      " 14  sellingprice  558811 non-null  int64  \n",
      " 15  saledate      558811 non-null  object \n",
      "dtypes: float64(2), int64(3), object(11)\n",
      "memory usage: 68.2+ MB\n"
     ]
    }
   ],
   "source": [
    "datos.info()"
   ]
  },
  {
   "cell_type": "code",
   "execution_count": 9,
   "metadata": {
    "colab": {
     "base_uri": "https://localhost:8080/"
    },
    "id": "wBnq3gdd0HLo",
    "outputId": "0e0ad5c0-2801-4776-f48f-91bb0332d44f"
   },
   "outputs": [
    {
     "data": {
      "text/plain": [
       "year                0\n",
       "make            10301\n",
       "model           10399\n",
       "trim            10651\n",
       "body            13195\n",
       "transmission    65353\n",
       "vin                 0\n",
       "state               0\n",
       "condition       11794\n",
       "odometer           94\n",
       "color             749\n",
       "interior          749\n",
       "seller              0\n",
       "mmr                 0\n",
       "sellingprice        0\n",
       "saledate            0\n",
       "dtype: int64"
      ]
     },
     "execution_count": 9,
     "metadata": {},
     "output_type": "execute_result"
    }
   ],
   "source": [
    "datos.isnull().sum()"
   ]
  },
  {
   "cell_type": "code",
   "execution_count": 10,
   "metadata": {
    "colab": {
     "base_uri": "https://localhost:8080/"
    },
    "id": "ooewpFAy0nqf",
    "outputId": "370d4200-7464-4e65-b353-ecb13cc575b5"
   },
   "outputs": [
    {
     "data": {
      "text/plain": [
       "year                0\n",
       "make            10301\n",
       "model           10399\n",
       "trim            10651\n",
       "body            13195\n",
       "transmission    65353\n",
       "vin                 0\n",
       "state               0\n",
       "condition           0\n",
       "odometer            0\n",
       "color             749\n",
       "interior          749\n",
       "seller              0\n",
       "mmr                 0\n",
       "sellingprice        0\n",
       "saledate            0\n",
       "dtype: int64"
      ]
     },
     "execution_count": 10,
     "metadata": {},
     "output_type": "execute_result"
    }
   ],
   "source": [
    "datos['odometer'].fillna(datos['odometer'].mean(), inplace=True)\n",
    "datos['condition'].fillna(datos['condition'].mean(), inplace=True)\n",
    "datos.isnull().sum()"
   ]
  },
  {
   "cell_type": "code",
   "execution_count": 11,
   "metadata": {
    "id": "HCcLQFfN2hbY"
   },
   "outputs": [],
   "source": [
    "datos_1= datos.dropna()"
   ]
  },
  {
   "cell_type": "code",
   "execution_count": 12,
   "metadata": {
    "colab": {
     "base_uri": "https://localhost:8080/"
    },
    "id": "0gR1tVX82nT4",
    "outputId": "676d3f0b-7de3-4ab6-e850-97f8d57a6c9a"
   },
   "outputs": [
    {
     "data": {
      "text/plain": [
       "year            0\n",
       "make            0\n",
       "model           0\n",
       "trim            0\n",
       "body            0\n",
       "transmission    0\n",
       "vin             0\n",
       "state           0\n",
       "condition       0\n",
       "odometer        0\n",
       "color           0\n",
       "interior        0\n",
       "seller          0\n",
       "mmr             0\n",
       "sellingprice    0\n",
       "saledate        0\n",
       "dtype: int64"
      ]
     },
     "execution_count": 12,
     "metadata": {},
     "output_type": "execute_result"
    }
   ],
   "source": [
    "datos_1.isnull().sum()"
   ]
  },
  {
   "cell_type": "code",
   "execution_count": 13,
   "metadata": {
    "id": "VGn5zYexFP-r"
   },
   "outputs": [],
   "source": [
    "data_clean = datos_1.drop(['trim','vin','state','saledate'], axis= 1)"
   ]
  },
  {
   "cell_type": "code",
   "execution_count": 14,
   "metadata": {
    "colab": {
     "base_uri": "https://localhost:8080/",
     "height": 571
    },
    "id": "QX2h8mjr1nYR",
    "outputId": "c7ac7a3a-9091-4893-ad06-0af216d381d2"
   },
   "outputs": [
    {
     "data": {
      "text/html": [
       "\n",
       "  <div id=\"df-8b14d805-b453-4356-b1aa-9d3d10959c18\">\n",
       "    <div class=\"colab-df-container\">\n",
       "      <div>\n",
       "<style scoped>\n",
       "    .dataframe tbody tr th:only-of-type {\n",
       "        vertical-align: middle;\n",
       "    }\n",
       "\n",
       "    .dataframe tbody tr th {\n",
       "        vertical-align: top;\n",
       "    }\n",
       "\n",
       "    .dataframe thead th {\n",
       "        text-align: right;\n",
       "    }\n",
       "</style>\n",
       "<table border=\"1\" class=\"dataframe\">\n",
       "  <thead>\n",
       "    <tr style=\"text-align: right;\">\n",
       "      <th></th>\n",
       "      <th>year</th>\n",
       "      <th>make</th>\n",
       "      <th>model</th>\n",
       "      <th>body</th>\n",
       "      <th>transmission</th>\n",
       "      <th>condition</th>\n",
       "      <th>odometer</th>\n",
       "      <th>color</th>\n",
       "      <th>interior</th>\n",
       "      <th>seller</th>\n",
       "      <th>mmr</th>\n",
       "      <th>sellingprice</th>\n",
       "    </tr>\n",
       "  </thead>\n",
       "  <tbody>\n",
       "    <tr>\n",
       "      <th>0</th>\n",
       "      <td>2015</td>\n",
       "      <td>Kia</td>\n",
       "      <td>Sorento</td>\n",
       "      <td>SUV</td>\n",
       "      <td>automatic</td>\n",
       "      <td>5.0</td>\n",
       "      <td>16639.0</td>\n",
       "      <td>white</td>\n",
       "      <td>black</td>\n",
       "      <td>kia motors america, inc</td>\n",
       "      <td>20500</td>\n",
       "      <td>21500</td>\n",
       "    </tr>\n",
       "    <tr>\n",
       "      <th>1</th>\n",
       "      <td>2015</td>\n",
       "      <td>Kia</td>\n",
       "      <td>Sorento</td>\n",
       "      <td>SUV</td>\n",
       "      <td>automatic</td>\n",
       "      <td>5.0</td>\n",
       "      <td>9393.0</td>\n",
       "      <td>white</td>\n",
       "      <td>beige</td>\n",
       "      <td>kia motors america, inc</td>\n",
       "      <td>20800</td>\n",
       "      <td>21500</td>\n",
       "    </tr>\n",
       "    <tr>\n",
       "      <th>2</th>\n",
       "      <td>2014</td>\n",
       "      <td>BMW</td>\n",
       "      <td>3 Series</td>\n",
       "      <td>Sedan</td>\n",
       "      <td>automatic</td>\n",
       "      <td>4.5</td>\n",
       "      <td>1331.0</td>\n",
       "      <td>gray</td>\n",
       "      <td>black</td>\n",
       "      <td>financial services remarketing (lease)</td>\n",
       "      <td>31900</td>\n",
       "      <td>30000</td>\n",
       "    </tr>\n",
       "    <tr>\n",
       "      <th>3</th>\n",
       "      <td>2015</td>\n",
       "      <td>Volvo</td>\n",
       "      <td>S60</td>\n",
       "      <td>Sedan</td>\n",
       "      <td>automatic</td>\n",
       "      <td>4.1</td>\n",
       "      <td>14282.0</td>\n",
       "      <td>white</td>\n",
       "      <td>black</td>\n",
       "      <td>volvo na rep/world omni</td>\n",
       "      <td>27500</td>\n",
       "      <td>27750</td>\n",
       "    </tr>\n",
       "    <tr>\n",
       "      <th>4</th>\n",
       "      <td>2014</td>\n",
       "      <td>BMW</td>\n",
       "      <td>6 Series Gran Coupe</td>\n",
       "      <td>Sedan</td>\n",
       "      <td>automatic</td>\n",
       "      <td>4.3</td>\n",
       "      <td>2641.0</td>\n",
       "      <td>gray</td>\n",
       "      <td>black</td>\n",
       "      <td>financial services remarketing (lease)</td>\n",
       "      <td>66000</td>\n",
       "      <td>67000</td>\n",
       "    </tr>\n",
       "    <tr>\n",
       "      <th>...</th>\n",
       "      <td>...</td>\n",
       "      <td>...</td>\n",
       "      <td>...</td>\n",
       "      <td>...</td>\n",
       "      <td>...</td>\n",
       "      <td>...</td>\n",
       "      <td>...</td>\n",
       "      <td>...</td>\n",
       "      <td>...</td>\n",
       "      <td>...</td>\n",
       "      <td>...</td>\n",
       "      <td>...</td>\n",
       "    </tr>\n",
       "    <tr>\n",
       "      <th>558805</th>\n",
       "      <td>2011</td>\n",
       "      <td>BMW</td>\n",
       "      <td>5 Series</td>\n",
       "      <td>Sedan</td>\n",
       "      <td>automatic</td>\n",
       "      <td>3.9</td>\n",
       "      <td>66403.0</td>\n",
       "      <td>white</td>\n",
       "      <td>brown</td>\n",
       "      <td>lauderdale imports ltd bmw pembrok pines</td>\n",
       "      <td>20300</td>\n",
       "      <td>22800</td>\n",
       "    </tr>\n",
       "    <tr>\n",
       "      <th>558807</th>\n",
       "      <td>2012</td>\n",
       "      <td>Ram</td>\n",
       "      <td>2500</td>\n",
       "      <td>Crew Cab</td>\n",
       "      <td>automatic</td>\n",
       "      <td>5.0</td>\n",
       "      <td>54393.0</td>\n",
       "      <td>white</td>\n",
       "      <td>black</td>\n",
       "      <td>i -5 uhlmann rv</td>\n",
       "      <td>30200</td>\n",
       "      <td>30800</td>\n",
       "    </tr>\n",
       "    <tr>\n",
       "      <th>558808</th>\n",
       "      <td>2012</td>\n",
       "      <td>BMW</td>\n",
       "      <td>X5</td>\n",
       "      <td>SUV</td>\n",
       "      <td>automatic</td>\n",
       "      <td>4.8</td>\n",
       "      <td>50561.0</td>\n",
       "      <td>black</td>\n",
       "      <td>black</td>\n",
       "      <td>financial services remarketing (lease)</td>\n",
       "      <td>29800</td>\n",
       "      <td>34000</td>\n",
       "    </tr>\n",
       "    <tr>\n",
       "      <th>558809</th>\n",
       "      <td>2015</td>\n",
       "      <td>Nissan</td>\n",
       "      <td>Altima</td>\n",
       "      <td>sedan</td>\n",
       "      <td>automatic</td>\n",
       "      <td>3.8</td>\n",
       "      <td>16658.0</td>\n",
       "      <td>white</td>\n",
       "      <td>black</td>\n",
       "      <td>enterprise vehicle exchange / tra / rental / t...</td>\n",
       "      <td>15100</td>\n",
       "      <td>11100</td>\n",
       "    </tr>\n",
       "    <tr>\n",
       "      <th>558810</th>\n",
       "      <td>2014</td>\n",
       "      <td>Ford</td>\n",
       "      <td>F-150</td>\n",
       "      <td>SuperCrew</td>\n",
       "      <td>automatic</td>\n",
       "      <td>3.4</td>\n",
       "      <td>15008.0</td>\n",
       "      <td>gray</td>\n",
       "      <td>gray</td>\n",
       "      <td>ford motor credit company,llc pd</td>\n",
       "      <td>29600</td>\n",
       "      <td>26700</td>\n",
       "    </tr>\n",
       "  </tbody>\n",
       "</table>\n",
       "<p>481757 rows × 12 columns</p>\n",
       "</div>\n",
       "      <button class=\"colab-df-convert\" onclick=\"convertToInteractive('df-8b14d805-b453-4356-b1aa-9d3d10959c18')\"\n",
       "              title=\"Convert this dataframe to an interactive table.\"\n",
       "              style=\"display:none;\">\n",
       "        \n",
       "  <svg xmlns=\"http://www.w3.org/2000/svg\" height=\"24px\"viewBox=\"0 0 24 24\"\n",
       "       width=\"24px\">\n",
       "    <path d=\"M0 0h24v24H0V0z\" fill=\"none\"/>\n",
       "    <path d=\"M18.56 5.44l.94 2.06.94-2.06 2.06-.94-2.06-.94-.94-2.06-.94 2.06-2.06.94zm-11 1L8.5 8.5l.94-2.06 2.06-.94-2.06-.94L8.5 2.5l-.94 2.06-2.06.94zm10 10l.94 2.06.94-2.06 2.06-.94-2.06-.94-.94-2.06-.94 2.06-2.06.94z\"/><path d=\"M17.41 7.96l-1.37-1.37c-.4-.4-.92-.59-1.43-.59-.52 0-1.04.2-1.43.59L10.3 9.45l-7.72 7.72c-.78.78-.78 2.05 0 2.83L4 21.41c.39.39.9.59 1.41.59.51 0 1.02-.2 1.41-.59l7.78-7.78 2.81-2.81c.8-.78.8-2.07 0-2.86zM5.41 20L4 18.59l7.72-7.72 1.47 1.35L5.41 20z\"/>\n",
       "  </svg>\n",
       "      </button>\n",
       "      \n",
       "  <style>\n",
       "    .colab-df-container {\n",
       "      display:flex;\n",
       "      flex-wrap:wrap;\n",
       "      gap: 12px;\n",
       "    }\n",
       "\n",
       "    .colab-df-convert {\n",
       "      background-color: #E8F0FE;\n",
       "      border: none;\n",
       "      border-radius: 50%;\n",
       "      cursor: pointer;\n",
       "      display: none;\n",
       "      fill: #1967D2;\n",
       "      height: 32px;\n",
       "      padding: 0 0 0 0;\n",
       "      width: 32px;\n",
       "    }\n",
       "\n",
       "    .colab-df-convert:hover {\n",
       "      background-color: #E2EBFA;\n",
       "      box-shadow: 0px 1px 2px rgba(60, 64, 67, 0.3), 0px 1px 3px 1px rgba(60, 64, 67, 0.15);\n",
       "      fill: #174EA6;\n",
       "    }\n",
       "\n",
       "    [theme=dark] .colab-df-convert {\n",
       "      background-color: #3B4455;\n",
       "      fill: #D2E3FC;\n",
       "    }\n",
       "\n",
       "    [theme=dark] .colab-df-convert:hover {\n",
       "      background-color: #434B5C;\n",
       "      box-shadow: 0px 1px 3px 1px rgba(0, 0, 0, 0.15);\n",
       "      filter: drop-shadow(0px 1px 2px rgba(0, 0, 0, 0.3));\n",
       "      fill: #FFFFFF;\n",
       "    }\n",
       "  </style>\n",
       "\n",
       "      <script>\n",
       "        const buttonEl =\n",
       "          document.querySelector('#df-8b14d805-b453-4356-b1aa-9d3d10959c18 button.colab-df-convert');\n",
       "        buttonEl.style.display =\n",
       "          google.colab.kernel.accessAllowed ? 'block' : 'none';\n",
       "\n",
       "        async function convertToInteractive(key) {\n",
       "          const element = document.querySelector('#df-8b14d805-b453-4356-b1aa-9d3d10959c18');\n",
       "          const dataTable =\n",
       "            await google.colab.kernel.invokeFunction('convertToInteractive',\n",
       "                                                     [key], {});\n",
       "          if (!dataTable) return;\n",
       "\n",
       "          const docLinkHtml = 'Like what you see? Visit the ' +\n",
       "            '<a target=\"_blank\" href=https://colab.research.google.com/notebooks/data_table.ipynb>data table notebook</a>'\n",
       "            + ' to learn more about interactive tables.';\n",
       "          element.innerHTML = '';\n",
       "          dataTable['output_type'] = 'display_data';\n",
       "          await google.colab.output.renderOutput(dataTable, element);\n",
       "          const docLink = document.createElement('div');\n",
       "          docLink.innerHTML = docLinkHtml;\n",
       "          element.appendChild(docLink);\n",
       "        }\n",
       "      </script>\n",
       "    </div>\n",
       "  </div>\n",
       "  "
      ],
      "text/plain": [
       "        year    make                model       body transmission  condition  \\\n",
       "0       2015     Kia              Sorento        SUV    automatic        5.0   \n",
       "1       2015     Kia              Sorento        SUV    automatic        5.0   \n",
       "2       2014     BMW             3 Series      Sedan    automatic        4.5   \n",
       "3       2015   Volvo                  S60      Sedan    automatic        4.1   \n",
       "4       2014     BMW  6 Series Gran Coupe      Sedan    automatic        4.3   \n",
       "...      ...     ...                  ...        ...          ...        ...   \n",
       "558805  2011     BMW             5 Series      Sedan    automatic        3.9   \n",
       "558807  2012     Ram                 2500   Crew Cab    automatic        5.0   \n",
       "558808  2012     BMW                   X5        SUV    automatic        4.8   \n",
       "558809  2015  Nissan               Altima      sedan    automatic        3.8   \n",
       "558810  2014    Ford                F-150  SuperCrew    automatic        3.4   \n",
       "\n",
       "        odometer  color interior  \\\n",
       "0        16639.0  white    black   \n",
       "1         9393.0  white    beige   \n",
       "2         1331.0   gray    black   \n",
       "3        14282.0  white    black   \n",
       "4         2641.0   gray    black   \n",
       "...          ...    ...      ...   \n",
       "558805   66403.0  white    brown   \n",
       "558807   54393.0  white    black   \n",
       "558808   50561.0  black    black   \n",
       "558809   16658.0  white    black   \n",
       "558810   15008.0   gray     gray   \n",
       "\n",
       "                                                   seller    mmr  sellingprice  \n",
       "0                                 kia motors america, inc  20500         21500  \n",
       "1                                 kia motors america, inc  20800         21500  \n",
       "2                  financial services remarketing (lease)  31900         30000  \n",
       "3                                 volvo na rep/world omni  27500         27750  \n",
       "4                  financial services remarketing (lease)  66000         67000  \n",
       "...                                                   ...    ...           ...  \n",
       "558805           lauderdale imports ltd bmw pembrok pines  20300         22800  \n",
       "558807                                    i -5 uhlmann rv  30200         30800  \n",
       "558808             financial services remarketing (lease)  29800         34000  \n",
       "558809  enterprise vehicle exchange / tra / rental / t...  15100         11100  \n",
       "558810                   ford motor credit company,llc pd  29600         26700  \n",
       "\n",
       "[481757 rows x 12 columns]"
      ]
     },
     "execution_count": 14,
     "metadata": {},
     "output_type": "execute_result"
    }
   ],
   "source": [
    "data_clean"
   ]
  },
  {
   "cell_type": "code",
   "execution_count": 15,
   "metadata": {
    "colab": {
     "base_uri": "https://localhost:8080/"
    },
    "id": "dpRYcJO5FR93",
    "outputId": "0872d065-717d-4e6b-fa70-0565971ed216"
   },
   "outputs": [
    {
     "name": "stdout",
     "output_type": "stream",
     "text": [
      "<class 'pandas.core.frame.DataFrame'>\n",
      "Int64Index: 481757 entries, 0 to 558810\n",
      "Data columns (total 12 columns):\n",
      " #   Column        Non-Null Count   Dtype  \n",
      "---  ------        --------------   -----  \n",
      " 0   year          481757 non-null  int64  \n",
      " 1   make          481757 non-null  object \n",
      " 2   model         481757 non-null  object \n",
      " 3   body          481757 non-null  object \n",
      " 4   transmission  481757 non-null  object \n",
      " 5   condition     481757 non-null  float64\n",
      " 6   odometer      481757 non-null  float64\n",
      " 7   color         481757 non-null  object \n",
      " 8   interior      481757 non-null  object \n",
      " 9   seller        481757 non-null  object \n",
      " 10  mmr           481757 non-null  int64  \n",
      " 11  sellingprice  481757 non-null  int64  \n",
      "dtypes: float64(2), int64(3), object(7)\n",
      "memory usage: 47.8+ MB\n"
     ]
    }
   ],
   "source": [
    "data_clean.info()"
   ]
  },
  {
   "cell_type": "code",
   "execution_count": 16,
   "metadata": {
    "colab": {
     "base_uri": "https://localhost:8080/"
    },
    "id": "G_akS9qnF4H-",
    "outputId": "b45099b5-a3d9-4fb5-e18e-badcd37026cb"
   },
   "outputs": [
    {
     "data": {
      "text/plain": [
       "year                26\n",
       "make                53\n",
       "model              771\n",
       "body                85\n",
       "transmission         2\n",
       "condition           42\n",
       "odometer        162978\n",
       "color               20\n",
       "interior            17\n",
       "seller           13036\n",
       "mmr               1099\n",
       "sellingprice      1822\n",
       "dtype: int64"
      ]
     },
     "execution_count": 16,
     "metadata": {},
     "output_type": "execute_result"
    }
   ],
   "source": [
    "data_clean.nunique()"
   ]
  },
  {
   "cell_type": "markdown",
   "metadata": {
    "id": "BlDP7H5qGaKl"
   },
   "source": []
  },
  {
   "cell_type": "code",
   "execution_count": 17,
   "metadata": {
    "id": "F3URwRQRIfHm"
   },
   "outputs": [],
   "source": [
    "from sklearn.preprocessing import LabelEncoder as LBE"
   ]
  },
  {
   "cell_type": "code",
   "execution_count": 18,
   "metadata": {
    "id": "0JPhSXXOz2gx"
   },
   "outputs": [],
   "source": [
    "data_clean['make'] = LBE().fit_transform(data_clean['make'])\n",
    "data_clean['model'] = LBE().fit_transform(data_clean['model'])\n",
    "data_clean['body'] = LBE().fit_transform(data_clean['body'])\n",
    "data_clean['transmission'] = LBE().fit_transform(data_clean['transmission'])\n",
    "data_clean['color'] = LBE().fit_transform(data_clean['color'])\n",
    "data_clean['interior'] = LBE().fit_transform(data_clean['interior'])\n",
    "data_clean['seller'] = LBE().fit_transform(data_clean['seller'])"
   ]
  },
  {
   "cell_type": "code",
   "execution_count": 19,
   "metadata": {
    "colab": {
     "base_uri": "https://localhost:8080/"
    },
    "id": "mtPCjMr43r_k",
    "outputId": "e59c87f8-90ef-4a2a-fcb5-7ac0213ae15e"
   },
   "outputs": [
    {
     "name": "stdout",
     "output_type": "stream",
     "text": [
      "<class 'pandas.core.frame.DataFrame'>\n",
      "Int64Index: 481757 entries, 0 to 558810\n",
      "Data columns (total 12 columns):\n",
      " #   Column        Non-Null Count   Dtype  \n",
      "---  ------        --------------   -----  \n",
      " 0   year          481757 non-null  int64  \n",
      " 1   make          481757 non-null  int64  \n",
      " 2   model         481757 non-null  int64  \n",
      " 3   body          481757 non-null  int64  \n",
      " 4   transmission  481757 non-null  int64  \n",
      " 5   condition     481757 non-null  float64\n",
      " 6   odometer      481757 non-null  float64\n",
      " 7   color         481757 non-null  int64  \n",
      " 8   interior      481757 non-null  int64  \n",
      " 9   seller        481757 non-null  int64  \n",
      " 10  mmr           481757 non-null  int64  \n",
      " 11  sellingprice  481757 non-null  int64  \n",
      "dtypes: float64(2), int64(10)\n",
      "memory usage: 47.8 MB\n"
     ]
    }
   ],
   "source": [
    "data_clean.info()"
   ]
  },
  {
   "cell_type": "code",
   "execution_count": 20,
   "metadata": {
    "colab": {
     "base_uri": "https://localhost:8080/",
     "height": 423
    },
    "id": "AA9iONq_4yg2",
    "outputId": "69f98771-9e65-451a-8c1a-960322364ddf"
   },
   "outputs": [
    {
     "data": {
      "text/html": [
       "\n",
       "  <div id=\"df-4a5e1bab-4c74-435a-9bf4-9ea29a6d2565\">\n",
       "    <div class=\"colab-df-container\">\n",
       "      <div>\n",
       "<style scoped>\n",
       "    .dataframe tbody tr th:only-of-type {\n",
       "        vertical-align: middle;\n",
       "    }\n",
       "\n",
       "    .dataframe tbody tr th {\n",
       "        vertical-align: top;\n",
       "    }\n",
       "\n",
       "    .dataframe thead th {\n",
       "        text-align: right;\n",
       "    }\n",
       "</style>\n",
       "<table border=\"1\" class=\"dataframe\">\n",
       "  <thead>\n",
       "    <tr style=\"text-align: right;\">\n",
       "      <th></th>\n",
       "      <th>year</th>\n",
       "      <th>make</th>\n",
       "      <th>model</th>\n",
       "      <th>body</th>\n",
       "      <th>transmission</th>\n",
       "      <th>condition</th>\n",
       "      <th>odometer</th>\n",
       "      <th>color</th>\n",
       "      <th>interior</th>\n",
       "      <th>seller</th>\n",
       "      <th>mmr</th>\n",
       "      <th>sellingprice</th>\n",
       "    </tr>\n",
       "  </thead>\n",
       "  <tbody>\n",
       "    <tr>\n",
       "      <th>0</th>\n",
       "      <td>2015</td>\n",
       "      <td>24</td>\n",
       "      <td>640</td>\n",
       "      <td>35</td>\n",
       "      <td>0</td>\n",
       "      <td>5.0</td>\n",
       "      <td>16639.0</td>\n",
       "      <td>17</td>\n",
       "      <td>1</td>\n",
       "      <td>6551</td>\n",
       "      <td>20500</td>\n",
       "      <td>21500</td>\n",
       "    </tr>\n",
       "    <tr>\n",
       "      <th>1</th>\n",
       "      <td>2015</td>\n",
       "      <td>24</td>\n",
       "      <td>640</td>\n",
       "      <td>35</td>\n",
       "      <td>0</td>\n",
       "      <td>5.0</td>\n",
       "      <td>9393.0</td>\n",
       "      <td>17</td>\n",
       "      <td>0</td>\n",
       "      <td>6551</td>\n",
       "      <td>20800</td>\n",
       "      <td>21500</td>\n",
       "    </tr>\n",
       "    <tr>\n",
       "      <th>2</th>\n",
       "      <td>2014</td>\n",
       "      <td>3</td>\n",
       "      <td>8</td>\n",
       "      <td>36</td>\n",
       "      <td>0</td>\n",
       "      <td>4.5</td>\n",
       "      <td>1331.0</td>\n",
       "      <td>7</td>\n",
       "      <td>1</td>\n",
       "      <td>4517</td>\n",
       "      <td>31900</td>\n",
       "      <td>30000</td>\n",
       "    </tr>\n",
       "    <tr>\n",
       "      <th>3</th>\n",
       "      <td>2015</td>\n",
       "      <td>51</td>\n",
       "      <td>578</td>\n",
       "      <td>36</td>\n",
       "      <td>0</td>\n",
       "      <td>4.1</td>\n",
       "      <td>14282.0</td>\n",
       "      <td>17</td>\n",
       "      <td>1</td>\n",
       "      <td>12612</td>\n",
       "      <td>27500</td>\n",
       "      <td>27750</td>\n",
       "    </tr>\n",
       "    <tr>\n",
       "      <th>4</th>\n",
       "      <td>2014</td>\n",
       "      <td>3</td>\n",
       "      <td>33</td>\n",
       "      <td>36</td>\n",
       "      <td>0</td>\n",
       "      <td>4.3</td>\n",
       "      <td>2641.0</td>\n",
       "      <td>7</td>\n",
       "      <td>1</td>\n",
       "      <td>4517</td>\n",
       "      <td>66000</td>\n",
       "      <td>67000</td>\n",
       "    </tr>\n",
       "    <tr>\n",
       "      <th>...</th>\n",
       "      <td>...</td>\n",
       "      <td>...</td>\n",
       "      <td>...</td>\n",
       "      <td>...</td>\n",
       "      <td>...</td>\n",
       "      <td>...</td>\n",
       "      <td>...</td>\n",
       "      <td>...</td>\n",
       "      <td>...</td>\n",
       "      <td>...</td>\n",
       "      <td>...</td>\n",
       "      <td>...</td>\n",
       "    </tr>\n",
       "    <tr>\n",
       "      <th>558805</th>\n",
       "      <td>2011</td>\n",
       "      <td>3</td>\n",
       "      <td>25</td>\n",
       "      <td>36</td>\n",
       "      <td>0</td>\n",
       "      <td>3.9</td>\n",
       "      <td>66403.0</td>\n",
       "      <td>17</td>\n",
       "      <td>3</td>\n",
       "      <td>6851</td>\n",
       "      <td>20300</td>\n",
       "      <td>22800</td>\n",
       "    </tr>\n",
       "    <tr>\n",
       "      <th>558807</th>\n",
       "      <td>2012</td>\n",
       "      <td>41</td>\n",
       "      <td>6</td>\n",
       "      <td>11</td>\n",
       "      <td>0</td>\n",
       "      <td>5.0</td>\n",
       "      <td>54393.0</td>\n",
       "      <td>17</td>\n",
       "      <td>1</td>\n",
       "      <td>5880</td>\n",
       "      <td>30200</td>\n",
       "      <td>30800</td>\n",
       "    </tr>\n",
       "    <tr>\n",
       "      <th>558808</th>\n",
       "      <td>2012</td>\n",
       "      <td>3</td>\n",
       "      <td>725</td>\n",
       "      <td>35</td>\n",
       "      <td>0</td>\n",
       "      <td>4.8</td>\n",
       "      <td>50561.0</td>\n",
       "      <td>1</td>\n",
       "      <td>1</td>\n",
       "      <td>4517</td>\n",
       "      <td>29800</td>\n",
       "      <td>34000</td>\n",
       "    </tr>\n",
       "    <tr>\n",
       "      <th>558809</th>\n",
       "      <td>2015</td>\n",
       "      <td>36</td>\n",
       "      <td>63</td>\n",
       "      <td>76</td>\n",
       "      <td>0</td>\n",
       "      <td>3.8</td>\n",
       "      <td>16658.0</td>\n",
       "      <td>17</td>\n",
       "      <td>1</td>\n",
       "      <td>4178</td>\n",
       "      <td>15100</td>\n",
       "      <td>11100</td>\n",
       "    </tr>\n",
       "    <tr>\n",
       "      <th>558810</th>\n",
       "      <td>2014</td>\n",
       "      <td>14</td>\n",
       "      <td>256</td>\n",
       "      <td>38</td>\n",
       "      <td>0</td>\n",
       "      <td>3.4</td>\n",
       "      <td>15008.0</td>\n",
       "      <td>7</td>\n",
       "      <td>6</td>\n",
       "      <td>4786</td>\n",
       "      <td>29600</td>\n",
       "      <td>26700</td>\n",
       "    </tr>\n",
       "  </tbody>\n",
       "</table>\n",
       "<p>481757 rows × 12 columns</p>\n",
       "</div>\n",
       "      <button class=\"colab-df-convert\" onclick=\"convertToInteractive('df-4a5e1bab-4c74-435a-9bf4-9ea29a6d2565')\"\n",
       "              title=\"Convert this dataframe to an interactive table.\"\n",
       "              style=\"display:none;\">\n",
       "        \n",
       "  <svg xmlns=\"http://www.w3.org/2000/svg\" height=\"24px\"viewBox=\"0 0 24 24\"\n",
       "       width=\"24px\">\n",
       "    <path d=\"M0 0h24v24H0V0z\" fill=\"none\"/>\n",
       "    <path d=\"M18.56 5.44l.94 2.06.94-2.06 2.06-.94-2.06-.94-.94-2.06-.94 2.06-2.06.94zm-11 1L8.5 8.5l.94-2.06 2.06-.94-2.06-.94L8.5 2.5l-.94 2.06-2.06.94zm10 10l.94 2.06.94-2.06 2.06-.94-2.06-.94-.94-2.06-.94 2.06-2.06.94z\"/><path d=\"M17.41 7.96l-1.37-1.37c-.4-.4-.92-.59-1.43-.59-.52 0-1.04.2-1.43.59L10.3 9.45l-7.72 7.72c-.78.78-.78 2.05 0 2.83L4 21.41c.39.39.9.59 1.41.59.51 0 1.02-.2 1.41-.59l7.78-7.78 2.81-2.81c.8-.78.8-2.07 0-2.86zM5.41 20L4 18.59l7.72-7.72 1.47 1.35L5.41 20z\"/>\n",
       "  </svg>\n",
       "      </button>\n",
       "      \n",
       "  <style>\n",
       "    .colab-df-container {\n",
       "      display:flex;\n",
       "      flex-wrap:wrap;\n",
       "      gap: 12px;\n",
       "    }\n",
       "\n",
       "    .colab-df-convert {\n",
       "      background-color: #E8F0FE;\n",
       "      border: none;\n",
       "      border-radius: 50%;\n",
       "      cursor: pointer;\n",
       "      display: none;\n",
       "      fill: #1967D2;\n",
       "      height: 32px;\n",
       "      padding: 0 0 0 0;\n",
       "      width: 32px;\n",
       "    }\n",
       "\n",
       "    .colab-df-convert:hover {\n",
       "      background-color: #E2EBFA;\n",
       "      box-shadow: 0px 1px 2px rgba(60, 64, 67, 0.3), 0px 1px 3px 1px rgba(60, 64, 67, 0.15);\n",
       "      fill: #174EA6;\n",
       "    }\n",
       "\n",
       "    [theme=dark] .colab-df-convert {\n",
       "      background-color: #3B4455;\n",
       "      fill: #D2E3FC;\n",
       "    }\n",
       "\n",
       "    [theme=dark] .colab-df-convert:hover {\n",
       "      background-color: #434B5C;\n",
       "      box-shadow: 0px 1px 3px 1px rgba(0, 0, 0, 0.15);\n",
       "      filter: drop-shadow(0px 1px 2px rgba(0, 0, 0, 0.3));\n",
       "      fill: #FFFFFF;\n",
       "    }\n",
       "  </style>\n",
       "\n",
       "      <script>\n",
       "        const buttonEl =\n",
       "          document.querySelector('#df-4a5e1bab-4c74-435a-9bf4-9ea29a6d2565 button.colab-df-convert');\n",
       "        buttonEl.style.display =\n",
       "          google.colab.kernel.accessAllowed ? 'block' : 'none';\n",
       "\n",
       "        async function convertToInteractive(key) {\n",
       "          const element = document.querySelector('#df-4a5e1bab-4c74-435a-9bf4-9ea29a6d2565');\n",
       "          const dataTable =\n",
       "            await google.colab.kernel.invokeFunction('convertToInteractive',\n",
       "                                                     [key], {});\n",
       "          if (!dataTable) return;\n",
       "\n",
       "          const docLinkHtml = 'Like what you see? Visit the ' +\n",
       "            '<a target=\"_blank\" href=https://colab.research.google.com/notebooks/data_table.ipynb>data table notebook</a>'\n",
       "            + ' to learn more about interactive tables.';\n",
       "          element.innerHTML = '';\n",
       "          dataTable['output_type'] = 'display_data';\n",
       "          await google.colab.output.renderOutput(dataTable, element);\n",
       "          const docLink = document.createElement('div');\n",
       "          docLink.innerHTML = docLinkHtml;\n",
       "          element.appendChild(docLink);\n",
       "        }\n",
       "      </script>\n",
       "    </div>\n",
       "  </div>\n",
       "  "
      ],
      "text/plain": [
       "        year  make  model  body  transmission  condition  odometer  color  \\\n",
       "0       2015    24    640    35             0        5.0   16639.0     17   \n",
       "1       2015    24    640    35             0        5.0    9393.0     17   \n",
       "2       2014     3      8    36             0        4.5    1331.0      7   \n",
       "3       2015    51    578    36             0        4.1   14282.0     17   \n",
       "4       2014     3     33    36             0        4.3    2641.0      7   \n",
       "...      ...   ...    ...   ...           ...        ...       ...    ...   \n",
       "558805  2011     3     25    36             0        3.9   66403.0     17   \n",
       "558807  2012    41      6    11             0        5.0   54393.0     17   \n",
       "558808  2012     3    725    35             0        4.8   50561.0      1   \n",
       "558809  2015    36     63    76             0        3.8   16658.0     17   \n",
       "558810  2014    14    256    38             0        3.4   15008.0      7   \n",
       "\n",
       "        interior  seller    mmr  sellingprice  \n",
       "0              1    6551  20500         21500  \n",
       "1              0    6551  20800         21500  \n",
       "2              1    4517  31900         30000  \n",
       "3              1   12612  27500         27750  \n",
       "4              1    4517  66000         67000  \n",
       "...          ...     ...    ...           ...  \n",
       "558805         3    6851  20300         22800  \n",
       "558807         1    5880  30200         30800  \n",
       "558808         1    4517  29800         34000  \n",
       "558809         1    4178  15100         11100  \n",
       "558810         6    4786  29600         26700  \n",
       "\n",
       "[481757 rows x 12 columns]"
      ]
     },
     "execution_count": 20,
     "metadata": {},
     "output_type": "execute_result"
    }
   ],
   "source": [
    "data_clean"
   ]
  },
  {
   "cell_type": "code",
   "execution_count": 21,
   "metadata": {
    "id": "c4A2vUk4OgO8"
   },
   "outputs": [],
   "source": [
    "from sklearn.model_selection import train_test_split\n",
    "X = data_clean.drop('transmission',axis=1)\n",
    "Y = data_clean['transmission']\n",
    "X_train, X_test, y_train, y_test = train_test_split(X, Y, test_size = 0.25, random_state = 0)"
   ]
  },
  {
   "cell_type": "code",
   "execution_count": 22,
   "metadata": {
    "id": "PZV_x7rIMCL3"
   },
   "outputs": [],
   "source": [
    "from sklearn.preprocessing import StandardScaler\n",
    "sc = StandardScaler()\n",
    "\n",
    "\n",
    "X_train = sc.fit_transform(X_train)\n",
    "X_test = sc.transform(X_test)"
   ]
  },
  {
   "cell_type": "code",
   "execution_count": 23,
   "metadata": {
    "colab": {
     "base_uri": "https://localhost:8080/"
    },
    "id": "Zoz-R-_1ODFU",
    "outputId": "2dff5df6-219b-47e3-ca19-831c0cb7ee4b"
   },
   "outputs": [
    {
     "data": {
      "text/plain": [
       "GaussianNB()"
      ]
     },
     "execution_count": 23,
     "metadata": {},
     "output_type": "execute_result"
    }
   ],
   "source": [
    "from sklearn.naive_bayes import GaussianNB\n",
    "classifier = GaussianNB()\n",
    "classifier.fit(X_train, y_train)"
   ]
  },
  {
   "cell_type": "code",
   "execution_count": 24,
   "metadata": {
    "colab": {
     "base_uri": "https://localhost:8080/"
    },
    "id": "n416JyyAPaSa",
    "outputId": "aeea3285-734c-485b-ec23-50ddb88fbf17"
   },
   "outputs": [
    {
     "name": "stdout",
     "output_type": "stream",
     "text": [
      "Accuracy score : 0.9547658585187645\n"
     ]
    }
   ],
   "source": [
    "from sklearn.metrics import accuracy_score\n",
    "y_pred_bayes = classifier.predict(X_test)\n",
    "acc = accuracy_score(y_test, y_pred_bayes)\n",
    "print(f\"Accuracy score : {acc}\")"
   ]
  },
  {
   "cell_type": "markdown",
   "metadata": {
    "id": "R9ZAyYdAPoeI"
   },
   "source": [
    "##Matriz de Confusion"
   ]
  },
  {
   "cell_type": "code",
   "execution_count": 25,
   "metadata": {
    "colab": {
     "base_uri": "https://localhost:8080/",
     "height": 283
    },
    "id": "Jzb9oL9dPriq",
    "outputId": "eedbf94a-c295-460a-8509-ea265b9934cd"
   },
   "outputs": [
    {
     "data": {
      "text/plain": [
       "<matplotlib.axes._subplots.AxesSubplot at 0x7effeb8c9ad0>"
      ]
     },
     "execution_count": 25,
     "metadata": {},
     "output_type": "execute_result"
    },
    {
     "data": {
      "image/png": "[encoded data removed]",
      "text/plain": [
       "<Figure size 432x288 with 2 Axes>"
      ]
     },
     "metadata": {
      "needs_background": "light"
     },
     "output_type": "display_data"
    }
   ],
   "source": [
    "#confusion_matrix  libreria sklearn\n",
    "from sklearn.metrics import confusion_matrix\n",
    "#  acurracy_score  libreria sklearn\n",
    "from sklearn.metrics import accuracy_score\n",
    "import seaborn as sns\n",
    "# Presentamos de forma estetica la matriz de confución\n",
    "sns.heatmap(confusion_matrix(y_test, y_pred_bayes), annot=True)"
   ]
  },
  {
   "cell_type": "code",
   "execution_count": 25,
   "metadata": {
    "id": "B9CU1T0ftPlp"
   },
   "outputs": [],
   "source": []
  },
  {
   "cell_type": "code",
   "execution_count": 25,
   "metadata": {
    "id": "7rzk12lwPs6v"
   },
   "outputs": [],
   "source": []
  },
  {
   "cell_type": "markdown",
   "metadata": {
    "id": "M9IEVKAWQXfU"
   },
   "source": [
    "#Hiden Markov Models"
   ]
  },
  {
   "cell_type": "code",
   "execution_count": 26,
   "metadata": {
    "colab": {
     "base_uri": "https://localhost:8080/"
    },
    "id": "5WOhLmAsQaHw",
    "outputId": "52954d4d-38f9-44bb-f42c-915a06053ae2"
   },
   "outputs": [
    {
     "name": "stdout",
     "output_type": "stream",
     "text": [
      "Looking in indexes: https://pypi.org/simple, https://us-python.pkg.dev/colab-wheels/public/simple/\n",
      "Collecting hmmlearn\n",
      "  Downloading hmmlearn-0.2.7-cp37-cp37m-manylinux_2_12_x86_64.manylinux2010_x86_64.whl (129 kB)\n",
      "\u001b[K     |████████████████████████████████| 129 kB 4.6 MB/s \n",
      "\u001b[?25hRequirement already satisfied: numpy>=1.10 in /usr/local/lib/python3.7/dist-packages (from hmmlearn) (1.21.6)\n",
      "Requirement already satisfied: scikit-learn>=0.16 in /usr/local/lib/python3.7/dist-packages (from hmmlearn) (1.0.2)\n",
      "Requirement already satisfied: scipy>=0.19 in /usr/local/lib/python3.7/dist-packages (from hmmlearn) (1.7.3)\n",
      "Requirement already satisfied: joblib>=0.11 in /usr/local/lib/python3.7/dist-packages (from scikit-learn>=0.16->hmmlearn) (1.1.0)\n",
      "Requirement already satisfied: threadpoolctl>=2.0.0 in /usr/local/lib/python3.7/dist-packages (from scikit-learn>=0.16->hmmlearn) (3.1.0)\n",
      "Installing collected packages: hmmlearn\n",
      "Successfully installed hmmlearn-0.2.7\n"
     ]
    }
   ],
   "source": [
    "!pip install hmmlearn\n"
   ]
  },
  {
   "cell_type": "code",
   "execution_count": 27,
   "metadata": {
    "colab": {
     "base_uri": "https://localhost:8080/"
    },
    "id": "G8rprRARQ27A",
    "outputId": "255cfd07-e8b4-4909-ecdc-aaccf0db5f56"
   },
   "outputs": [
    {
     "data": {
      "text/plain": [
       "GaussianHMM(n_components=2, n_iter=50, random_state=50)"
      ]
     },
     "execution_count": 27,
     "metadata": {},
     "output_type": "execute_result"
    }
   ],
   "source": [
    "from hmmlearn import hmm\n",
    "# Instanciamos el modelo Hidden Markov Model\n",
    "model = hmm.GaussianHMM(n_components = 2, covariance_type = \"diag\", n_iter = 50, random_state = 50)\n",
    "# Entrenamos el modelo con los datos de entrenamiento\n",
    "model.fit(X_train)"
   ]
  },
  {
   "cell_type": "code",
   "execution_count": 28,
   "metadata": {
    "id": "7-mQM2XvQ3bw"
   },
   "outputs": [],
   "source": [
    "# realizamos la prueba de predicción del model\n",
    "y_pred_Markov = model.predict(X_test)"
   ]
  },
  {
   "cell_type": "code",
   "execution_count": 29,
   "metadata": {
    "colab": {
     "base_uri": "https://localhost:8080/"
    },
    "id": "ouwPEBWWSH88",
    "outputId": "a7e738ed-1063-48c9-c92c-4bff13632ab9"
   },
   "outputs": [
    {
     "data": {
      "text/plain": [
       "array([0, 0, 0, ..., 1, 1, 1])"
      ]
     },
     "execution_count": 29,
     "metadata": {},
     "output_type": "execute_result"
    }
   ],
   "source": [
    "y_pred_Markov"
   ]
  },
  {
   "cell_type": "code",
   "execution_count": 30,
   "metadata": {
    "colab": {
     "base_uri": "https://localhost:8080/"
    },
    "id": "rF48cB46REJ-",
    "outputId": "8f324f8b-0031-439c-f508-21f0a267e9e8"
   },
   "outputs": [
    {
     "name": "stdout",
     "output_type": "stream",
     "text": [
      "Accuracy Hidden Markov Model: 0.6130106276984391\n"
     ]
    }
   ],
   "source": [
    "from sklearn import metrics\n",
    "print(\"Accuracy Hidden Markov Model:\", metrics.accuracy_score(y_test, y_pred_Markov))"
   ]
  },
  {
   "cell_type": "markdown",
   "metadata": {
    "id": "hWpLJd7dRkGV"
   },
   "source": [
    "##Matriz de Confusion "
   ]
  },
  {
   "cell_type": "code",
   "execution_count": 31,
   "metadata": {
    "colab": {
     "base_uri": "https://localhost:8080/",
     "height": 283
    },
    "id": "DVOeiSQ3RKhU",
    "outputId": "fe4b92ae-9c22-42bb-f6bc-3d69f2e8330d"
   },
   "outputs": [
    {
     "data": {
      "text/plain": [
       "<matplotlib.axes._subplots.AxesSubplot at 0x7effe7b16610>"
      ]
     },
     "execution_count": 31,
     "metadata": {},
     "output_type": "execute_result"
    },
    {
     "data": {
      "image/png": "[encoded data removed]",
      "text/plain": [
       "<Figure size 432x288 with 2 Axes>"
      ]
     },
     "metadata": {
      "needs_background": "light"
     },
     "output_type": "display_data"
    }
   ],
   "source": [
    "#confusion_matrix  libreria sklearn\n",
    "from sklearn.metrics import confusion_matrix\n",
    "#  acurracy_score  libreria sklearn\n",
    "from sklearn.metrics import accuracy_score\n",
    "import seaborn as sns\n",
    "\n",
    "\n",
    "# Presentamos de forma estetica la matriz de confución\n",
    "sns.heatmap(confusion_matrix(y_test, y_pred_Markov), annot=True)"
   ]
  },
  {
   "cell_type": "markdown",
   "metadata": {
    "id": "Tfcemfp-S_NE"
   },
   "source": [
    "#Probabilistic fuzzy Logic"
   ]
  },
  {
   "cell_type": "code",
   "execution_count": 32,
   "metadata": {
    "colab": {
     "base_uri": "https://localhost:8080/"
    },
    "id": "68cP2DM7Rrao",
    "outputId": "d2f325f8-37ff-4fa1-f12d-3f97648f5da3"
   },
   "outputs": [
    {
     "name": "stdout",
     "output_type": "stream",
     "text": [
      "Looking in indexes: https://pypi.org/simple, https://us-python.pkg.dev/colab-wheels/public/simple/\n",
      "Collecting scikit-fuzzy\n",
      "  Downloading scikit-fuzzy-0.4.2.tar.gz (993 kB)\n",
      "\u001b[K     |████████████████████████████████| 993 kB 5.1 MB/s \n",
      "\u001b[?25hRequirement already satisfied: numpy>=1.6.0 in /usr/local/lib/python3.7/dist-packages (from scikit-fuzzy) (1.21.6)\n",
      "Requirement already satisfied: scipy>=0.9.0 in /usr/local/lib/python3.7/dist-packages (from scikit-fuzzy) (1.7.3)\n",
      "Requirement already satisfied: networkx>=1.9.0 in /usr/local/lib/python3.7/dist-packages (from scikit-fuzzy) (2.6.3)\n",
      "Building wheels for collected packages: scikit-fuzzy\n",
      "  Building wheel for scikit-fuzzy (setup.py) ... \u001b[?25l\u001b[?25hdone\n",
      "  Created wheel for scikit-fuzzy: filename=scikit_fuzzy-0.4.2-py3-none-any.whl size=894089 sha256=55eb0fe3754dbac7b8c72e8be21084073f386ebefaa6d1bb548e5cc54844042e\n",
      "  Stored in directory: /root/.cache/pip/wheels/d5/74/fc/38588a3d2e3f34f74588e6daa3aa5b0a322bd6f9420a707131\n",
      "Successfully built scikit-fuzzy\n",
      "Installing collected packages: scikit-fuzzy\n",
      "Successfully installed scikit-fuzzy-0.4.2\n"
     ]
    }
   ],
   "source": [
    "!pip install -U scikit-fuzzy\n",
    "import numpy as np\n",
    "import skfuzzy as fuzz\n",
    "\n",
    "from skfuzzy import control as ctrl"
   ]
  },
  {
   "cell_type": "code",
   "execution_count": 32,
   "metadata": {
    "id": "BRSpos7l7PmM"
   },
   "outputs": [],
   "source": []
  },
  {
   "cell_type": "code",
   "execution_count": 33,
   "metadata": {
    "colab": {
     "base_uri": "https://localhost:8080/"
    },
    "id": "5uuhbhgr7g6q",
    "outputId": "4841b6c1-bd62-4cbb-d875-d3f028782328"
   },
   "outputs": [
    {
     "data": {
      "text/plain": [
       "182000"
      ]
     },
     "execution_count": 33,
     "metadata": {},
     "output_type": "execute_result"
    }
   ],
   "source": [
    "data_clean['condition'].max()\n",
    "data_clean['mmr'].max()"
   ]
  },
  {
   "cell_type": "code",
   "execution_count": 34,
   "metadata": {
    "id": "uwcR0zFX7xpZ"
   },
   "outputs": [],
   "source": [
    "condition = ctrl.Antecedent(np.arange(1, 5, 0.1), 'condition')\n",
    "MMR = ctrl.Antecedent(np.arange(25, 182000, 1), 'mmr')\n",
    "Trasm = ctrl.Consequent(np.arange(0, 10, 1), 'Trasm')\n"
   ]
  },
  {
   "cell_type": "code",
   "execution_count": 38,
   "metadata": {
    "colab": {
     "base_uri": "https://localhost:8080/",
     "height": 281
    },
    "id": "ahdD-MfY_a8K",
    "outputId": "e3e20c53-69f7-438d-a90c-fa187f3da692"
   },
   "outputs": [
    {
     "data": {
      "image/png": "[encoded data removed]",
      "text/plain": [
       "<Figure size 432x288 with 1 Axes>"
      ]
     },
     "metadata": {
      "needs_background": "light"
     },
     "output_type": "display_data"
    }
   ],
   "source": [
    "condition.automf(3)\n",
    "MMR.automf(3)\n",
    "\n",
    "Trasm.automf(3)\n",
    "\n",
    "Trasm['Trams_Automatic'] = fuzz.trimf(Trasm.universe, [0, 0,4])\n",
    "Trasm['Trams_Manual'] = fuzz.trimf(Trasm.universe, [0,4,5])\n",
    "Trasm['Trams_Manual'] = fuzz.trimf(Trasm.universe, [4,5,10])\n",
    "\n",
    "\n",
    "condition['average'].view()"
   ]
  },
  {
   "cell_type": "code",
   "execution_count": 36,
   "metadata": {
    "colab": {
     "base_uri": "https://localhost:8080/",
     "height": 281
    },
    "id": "em1b3t9b_fYS",
    "outputId": "be080217-3242-4bd3-ea5a-a70edfc99ea1"
   },
   "outputs": [
    {
     "data": {
      "image/png": "[encoded data removed]",
      "text/plain": [
       "<Figure size 432x288 with 1 Axes>"
      ]
     },
     "metadata": {
      "needs_background": "light"
     },
     "output_type": "display_data"
    }
   ],
   "source": [
    "MMR['average'].view()"
   ]
  },
  {
   "cell_type": "code",
   "execution_count": 39,
   "metadata": {
    "colab": {
     "base_uri": "https://localhost:8080/",
     "height": 281
    },
    "id": "Bee__tURKaEW",
    "outputId": "d758352e-f9d1-4acf-ac4b-b9bbadc0604b"
   },
   "outputs": [
    {
     "data": {
      "image/png": "[encoded data removed]",
      "text/plain": [
       "<Figure size 432x288 with 1 Axes>"
      ]
     },
     "metadata": {
      "needs_background": "light"
     },
     "output_type": "display_data"
    }
   ],
   "source": [
    "Trasm['average'].view()"
   ]
  },
  {
   "cell_type": "code",
   "execution_count": 40,
   "metadata": {
    "id": "Kl7CUgeUAvF5"
   },
   "outputs": [],
   "source": [
    "rule1 = ctrl.Rule(condition['poor'] | MMR['poor'], Trasm['Trams_Automatic'])\n",
    "rule2 = ctrl.Rule(condition['average']& MMR['good']  , Trasm['Trams_Manual'])\n",
    "rule3 = ctrl.Rule(  condition['good']  | MMR['good'] , Trasm['Trams_Manual'])\n",
    "trams_ctrl = ctrl.ControlSystem([rule1, rule2, rule3])\n",
    "trams_sis = ctrl.ControlSystemSimulation(trams_ctrl)"
   ]
  },
  {
   "cell_type": "code",
   "execution_count": 41,
   "metadata": {
    "id": "qjuIvKOgNbnc"
   },
   "outputs": [],
   "source": [
    "trams_sis.input['condition'] = 4.7\n",
    "trams_sis.input['mmr'] = 150000\n",
    "trams_sis.compute()"
   ]
  },
  {
   "cell_type": "code",
   "execution_count": 42,
   "metadata": {
    "colab": {
     "base_uri": "https://localhost:8080/",
     "height": 299
    },
    "id": "es7fuknROX2-",
    "outputId": "fd35acba-2ff6-486e-cd47-f418cf14ad68"
   },
   "outputs": [
    {
     "name": "stdout",
     "output_type": "stream",
     "text": [
      "6.241911549069634\n"
     ]
    },
    {
     "data": {
      "image/png": "[encoded data removed]",
      "text/plain": [
       "<Figure size 432x288 with 1 Axes>"
      ]
     },
     "metadata": {
      "needs_background": "light"
     },
     "output_type": "display_data"
    }
   ],
   "source": [
    "print(trams_sis.output['Trasm'])\n",
    "Trasm.view(sim=trams_sis)"
   ]
  }
 ],
 "metadata": {
  "colab": {
   "name": "Clientes.ipynb",
   "provenance": []
  },
  "kernelspec": {
   "display_name": "Python 3 (ipykernel)",
   "language": "python",
   "name": "python3"
  },
  "language_info": {
   "codemirror_mode": {
    "name": "ipython",
    "version": 3
   },
   "file_extension": ".py",
   "mimetype": "text/x-python",
   "name": "python",
   "nbconvert_exporter": "python",
   "pygments_lexer": "ipython3",
   "version": "3.9.13"
  }
 },
 "nbformat": 4,
 "nbformat_minor": 1
}
