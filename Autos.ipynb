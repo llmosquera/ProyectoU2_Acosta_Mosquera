{
 "cells": [
  {
   "cell_type": "code",
   "execution_count": 1,
   "metadata": {
    "colab": {
     "base_uri": "https://localhost:8080/"
    },
    "id": "k-veozmsZRSo",
    "outputId": "87b033d4-62b8-4e86-ed19-7d330cac148a"
   },
   "outputs": [],
   "source": [
    "# importar librerias y datos \n",
    "#from google.colab import drive\n",
    "#drive.mount('/content/gdrive')\n",
    "\n",
    "# Importacion de librerias\n",
    "import numpy as np\n",
    "import matplotlib.pyplot as plt\n",
    "import pandas as pd"
   ]
  },
  {
   "cell_type": "code",
   "execution_count": 7,
   "metadata": {
    "colab": {
     "base_uri": "https://localhost:8080/"
    },
    "id": "HsmNVI-c8Xer",
    "outputId": "bb60ee2e-4176-4fa8-ae4b-15c1b01b1e04"
   },
   "outputs": [
    {
     "name": "stderr",
     "output_type": "stream",
     "text": [
      "b'Skipping line 408163: expected 16 fields, saw 17\\nSkipping line 417837: expected 16 fields, saw 17\\nSkipping line 421291: expected 16 fields, saw 17\\nSkipping line 424163: expected 16 fields, saw 17\\n'\n",
      "b'Skipping line 427042: expected 16 fields, saw 17\\nSkipping line 427045: expected 16 fields, saw 17\\nSkipping line 434426: expected 16 fields, saw 17\\nSkipping line 444503: expected 16 fields, saw 17\\nSkipping line 453796: expected 16 fields, saw 17\\n'\n",
      "b'Skipping line 461599: expected 16 fields, saw 17\\nSkipping line 461614: expected 16 fields, saw 17\\n'\n",
      "b'Skipping line 492486: expected 16 fields, saw 17\\nSkipping line 497010: expected 16 fields, saw 17\\nSkipping line 497013: expected 16 fields, saw 17\\nSkipping line 499085: expected 16 fields, saw 17\\nSkipping line 501457: expected 16 fields, saw 17\\nSkipping line 505301: expected 16 fields, saw 17\\nSkipping line 505308: expected 16 fields, saw 17\\nSkipping line 520463: expected 16 fields, saw 17\\n'\n",
      "b'Skipping line 528998: expected 16 fields, saw 17\\nSkipping line 529011: expected 16 fields, saw 17\\nSkipping line 529015: expected 16 fields, saw 17\\nSkipping line 529624: expected 16 fields, saw 17\\nSkipping line 548786: expected 16 fields, saw 17\\nSkipping line 551224: expected 16 fields, saw 17\\nSkipping line 554712: expected 16 fields, saw 17\\n'\n"
     ]
    }
   ],
   "source": [
    "archivo = 'C:/Users/User/Desktop/ProyectoU2/Proyecto/car_prices.csv'\n",
    "#Se utiliza para no mostrar lineas con datos erróneos\n",
    "datos = pd.read_csv(archivo, error_bad_lines=False)"
   ]
  },
  {
   "cell_type": "markdown",
   "metadata": {},
   "source": [
    "Le analizamos la informacion del dataset para determinar la cantidad de valores y los valores nulos y el tipo de dato, ya sea numero caracteres"
   ]
  },
  {
   "cell_type": "code",
   "execution_count": 13,
   "metadata": {},
   "outputs": [
    {
     "data": {
      "text/html": [
       "<div>\n",
       "<style scoped>\n",
       "    .dataframe tbody tr th:only-of-type {\n",
       "        vertical-align: middle;\n",
       "    }\n",
       "\n",
       "    .dataframe tbody tr th {\n",
       "        vertical-align: top;\n",
       "    }\n",
       "\n",
       "    .dataframe thead th {\n",
       "        text-align: right;\n",
       "    }\n",
       "</style>\n",
       "<table border=\"1\" class=\"dataframe\">\n",
       "  <thead>\n",
       "    <tr style=\"text-align: right;\">\n",
       "      <th></th>\n",
       "      <th>year</th>\n",
       "      <th>make</th>\n",
       "      <th>model</th>\n",
       "      <th>trim</th>\n",
       "      <th>body</th>\n",
       "      <th>transmission</th>\n",
       "      <th>vin</th>\n",
       "      <th>state</th>\n",
       "      <th>condition</th>\n",
       "      <th>odometer</th>\n",
       "      <th>color</th>\n",
       "      <th>interior</th>\n",
       "      <th>seller</th>\n",
       "      <th>mmr</th>\n",
       "      <th>sellingprice</th>\n",
       "      <th>saledate</th>\n",
       "    </tr>\n",
       "  </thead>\n",
       "  <tbody>\n",
       "    <tr>\n",
       "      <th>0</th>\n",
       "      <td>2015</td>\n",
       "      <td>Kia</td>\n",
       "      <td>Sorento</td>\n",
       "      <td>LX</td>\n",
       "      <td>SUV</td>\n",
       "      <td>automatic</td>\n",
       "      <td>5xyktca69fg566472</td>\n",
       "      <td>ca</td>\n",
       "      <td>5.0</td>\n",
       "      <td>16639.0</td>\n",
       "      <td>white</td>\n",
       "      <td>black</td>\n",
       "      <td>kia motors america, inc</td>\n",
       "      <td>20500</td>\n",
       "      <td>21500</td>\n",
       "      <td>Tue Dec 16 2014 12:30:00 GMT-0800 (PST)</td>\n",
       "    </tr>\n",
       "    <tr>\n",
       "      <th>1</th>\n",
       "      <td>2015</td>\n",
       "      <td>Kia</td>\n",
       "      <td>Sorento</td>\n",
       "      <td>LX</td>\n",
       "      <td>SUV</td>\n",
       "      <td>automatic</td>\n",
       "      <td>5xyktca69fg561319</td>\n",
       "      <td>ca</td>\n",
       "      <td>5.0</td>\n",
       "      <td>9393.0</td>\n",
       "      <td>white</td>\n",
       "      <td>beige</td>\n",
       "      <td>kia motors america, inc</td>\n",
       "      <td>20800</td>\n",
       "      <td>21500</td>\n",
       "      <td>Tue Dec 16 2014 12:30:00 GMT-0800 (PST)</td>\n",
       "    </tr>\n",
       "    <tr>\n",
       "      <th>2</th>\n",
       "      <td>2014</td>\n",
       "      <td>BMW</td>\n",
       "      <td>3 Series</td>\n",
       "      <td>328i SULEV</td>\n",
       "      <td>Sedan</td>\n",
       "      <td>automatic</td>\n",
       "      <td>wba3c1c51ek116351</td>\n",
       "      <td>ca</td>\n",
       "      <td>4.5</td>\n",
       "      <td>1331.0</td>\n",
       "      <td>gray</td>\n",
       "      <td>black</td>\n",
       "      <td>financial services remarketing (lease)</td>\n",
       "      <td>31900</td>\n",
       "      <td>30000</td>\n",
       "      <td>Thu Jan 15 2015 04:30:00 GMT-0800 (PST)</td>\n",
       "    </tr>\n",
       "    <tr>\n",
       "      <th>3</th>\n",
       "      <td>2015</td>\n",
       "      <td>Volvo</td>\n",
       "      <td>S60</td>\n",
       "      <td>T5</td>\n",
       "      <td>Sedan</td>\n",
       "      <td>automatic</td>\n",
       "      <td>yv1612tb4f1310987</td>\n",
       "      <td>ca</td>\n",
       "      <td>4.1</td>\n",
       "      <td>14282.0</td>\n",
       "      <td>white</td>\n",
       "      <td>black</td>\n",
       "      <td>volvo na rep/world omni</td>\n",
       "      <td>27500</td>\n",
       "      <td>27750</td>\n",
       "      <td>Thu Jan 29 2015 04:30:00 GMT-0800 (PST)</td>\n",
       "    </tr>\n",
       "    <tr>\n",
       "      <th>4</th>\n",
       "      <td>2014</td>\n",
       "      <td>BMW</td>\n",
       "      <td>6 Series Gran Coupe</td>\n",
       "      <td>650i</td>\n",
       "      <td>Sedan</td>\n",
       "      <td>automatic</td>\n",
       "      <td>wba6b2c57ed129731</td>\n",
       "      <td>ca</td>\n",
       "      <td>4.3</td>\n",
       "      <td>2641.0</td>\n",
       "      <td>gray</td>\n",
       "      <td>black</td>\n",
       "      <td>financial services remarketing (lease)</td>\n",
       "      <td>66000</td>\n",
       "      <td>67000</td>\n",
       "      <td>Thu Dec 18 2014 12:30:00 GMT-0800 (PST)</td>\n",
       "    </tr>\n",
       "    <tr>\n",
       "      <th>...</th>\n",
       "      <td>...</td>\n",
       "      <td>...</td>\n",
       "      <td>...</td>\n",
       "      <td>...</td>\n",
       "      <td>...</td>\n",
       "      <td>...</td>\n",
       "      <td>...</td>\n",
       "      <td>...</td>\n",
       "      <td>...</td>\n",
       "      <td>...</td>\n",
       "      <td>...</td>\n",
       "      <td>...</td>\n",
       "      <td>...</td>\n",
       "      <td>...</td>\n",
       "      <td>...</td>\n",
       "      <td>...</td>\n",
       "    </tr>\n",
       "    <tr>\n",
       "      <th>558806</th>\n",
       "      <td>2015</td>\n",
       "      <td>Kia</td>\n",
       "      <td>K900</td>\n",
       "      <td>Luxury</td>\n",
       "      <td>Sedan</td>\n",
       "      <td>NaN</td>\n",
       "      <td>knalw4d4xf6019304</td>\n",
       "      <td>in</td>\n",
       "      <td>4.5</td>\n",
       "      <td>18255.0</td>\n",
       "      <td>silver</td>\n",
       "      <td>black</td>\n",
       "      <td>avis corporation</td>\n",
       "      <td>35300</td>\n",
       "      <td>33000</td>\n",
       "      <td>Thu Jul 09 2015 07:00:00 GMT-0700 (PDT)</td>\n",
       "    </tr>\n",
       "    <tr>\n",
       "      <th>558807</th>\n",
       "      <td>2012</td>\n",
       "      <td>Ram</td>\n",
       "      <td>2500</td>\n",
       "      <td>Power Wagon</td>\n",
       "      <td>Crew Cab</td>\n",
       "      <td>automatic</td>\n",
       "      <td>3c6td5et6cg112407</td>\n",
       "      <td>wa</td>\n",
       "      <td>5.0</td>\n",
       "      <td>54393.0</td>\n",
       "      <td>white</td>\n",
       "      <td>black</td>\n",
       "      <td>i -5 uhlmann rv</td>\n",
       "      <td>30200</td>\n",
       "      <td>30800</td>\n",
       "      <td>Wed Jul 08 2015 09:30:00 GMT-0700 (PDT)</td>\n",
       "    </tr>\n",
       "    <tr>\n",
       "      <th>558808</th>\n",
       "      <td>2012</td>\n",
       "      <td>BMW</td>\n",
       "      <td>X5</td>\n",
       "      <td>xDrive35d</td>\n",
       "      <td>SUV</td>\n",
       "      <td>automatic</td>\n",
       "      <td>5uxzw0c58cl668465</td>\n",
       "      <td>ca</td>\n",
       "      <td>4.8</td>\n",
       "      <td>50561.0</td>\n",
       "      <td>black</td>\n",
       "      <td>black</td>\n",
       "      <td>financial services remarketing (lease)</td>\n",
       "      <td>29800</td>\n",
       "      <td>34000</td>\n",
       "      <td>Wed Jul 08 2015 09:30:00 GMT-0700 (PDT)</td>\n",
       "    </tr>\n",
       "    <tr>\n",
       "      <th>558809</th>\n",
       "      <td>2015</td>\n",
       "      <td>Nissan</td>\n",
       "      <td>Altima</td>\n",
       "      <td>2.5 S</td>\n",
       "      <td>sedan</td>\n",
       "      <td>automatic</td>\n",
       "      <td>1n4al3ap0fc216050</td>\n",
       "      <td>ga</td>\n",
       "      <td>3.8</td>\n",
       "      <td>16658.0</td>\n",
       "      <td>white</td>\n",
       "      <td>black</td>\n",
       "      <td>enterprise vehicle exchange / tra / rental / t...</td>\n",
       "      <td>15100</td>\n",
       "      <td>11100</td>\n",
       "      <td>Thu Jul 09 2015 06:45:00 GMT-0700 (PDT)</td>\n",
       "    </tr>\n",
       "    <tr>\n",
       "      <th>558810</th>\n",
       "      <td>2014</td>\n",
       "      <td>Ford</td>\n",
       "      <td>F-150</td>\n",
       "      <td>XLT</td>\n",
       "      <td>SuperCrew</td>\n",
       "      <td>automatic</td>\n",
       "      <td>1ftfw1et2eke87277</td>\n",
       "      <td>ca</td>\n",
       "      <td>3.4</td>\n",
       "      <td>15008.0</td>\n",
       "      <td>gray</td>\n",
       "      <td>gray</td>\n",
       "      <td>ford motor credit company,llc pd</td>\n",
       "      <td>29600</td>\n",
       "      <td>26700</td>\n",
       "      <td>Thu May 28 2015 05:30:00 GMT-0700 (PDT)</td>\n",
       "    </tr>\n",
       "  </tbody>\n",
       "</table>\n",
       "<p>558811 rows × 16 columns</p>\n",
       "</div>"
      ],
      "text/plain": [
       "        year    make                model         trim       body  \\\n",
       "0       2015     Kia              Sorento           LX        SUV   \n",
       "1       2015     Kia              Sorento           LX        SUV   \n",
       "2       2014     BMW             3 Series   328i SULEV      Sedan   \n",
       "3       2015   Volvo                  S60           T5      Sedan   \n",
       "4       2014     BMW  6 Series Gran Coupe         650i      Sedan   \n",
       "...      ...     ...                  ...          ...        ...   \n",
       "558806  2015     Kia                 K900       Luxury      Sedan   \n",
       "558807  2012     Ram                 2500  Power Wagon   Crew Cab   \n",
       "558808  2012     BMW                   X5    xDrive35d        SUV   \n",
       "558809  2015  Nissan               Altima        2.5 S      sedan   \n",
       "558810  2014    Ford                F-150          XLT  SuperCrew   \n",
       "\n",
       "       transmission                vin state  condition  odometer   color  \\\n",
       "0         automatic  5xyktca69fg566472    ca        5.0   16639.0   white   \n",
       "1         automatic  5xyktca69fg561319    ca        5.0    9393.0   white   \n",
       "2         automatic  wba3c1c51ek116351    ca        4.5    1331.0    gray   \n",
       "3         automatic  yv1612tb4f1310987    ca        4.1   14282.0   white   \n",
       "4         automatic  wba6b2c57ed129731    ca        4.3    2641.0    gray   \n",
       "...             ...                ...   ...        ...       ...     ...   \n",
       "558806          NaN  knalw4d4xf6019304    in        4.5   18255.0  silver   \n",
       "558807    automatic  3c6td5et6cg112407    wa        5.0   54393.0   white   \n",
       "558808    automatic  5uxzw0c58cl668465    ca        4.8   50561.0   black   \n",
       "558809    automatic  1n4al3ap0fc216050    ga        3.8   16658.0   white   \n",
       "558810    automatic  1ftfw1et2eke87277    ca        3.4   15008.0    gray   \n",
       "\n",
       "       interior                                             seller    mmr  \\\n",
       "0         black                            kia motors america, inc  20500   \n",
       "1         beige                            kia motors america, inc  20800   \n",
       "2         black             financial services remarketing (lease)  31900   \n",
       "3         black                            volvo na rep/world omni  27500   \n",
       "4         black             financial services remarketing (lease)  66000   \n",
       "...         ...                                                ...    ...   \n",
       "558806    black                                   avis corporation  35300   \n",
       "558807    black                                    i -5 uhlmann rv  30200   \n",
       "558808    black             financial services remarketing (lease)  29800   \n",
       "558809    black  enterprise vehicle exchange / tra / rental / t...  15100   \n",
       "558810     gray                   ford motor credit company,llc pd  29600   \n",
       "\n",
       "        sellingprice                                 saledate  \n",
       "0              21500  Tue Dec 16 2014 12:30:00 GMT-0800 (PST)  \n",
       "1              21500  Tue Dec 16 2014 12:30:00 GMT-0800 (PST)  \n",
       "2              30000  Thu Jan 15 2015 04:30:00 GMT-0800 (PST)  \n",
       "3              27750  Thu Jan 29 2015 04:30:00 GMT-0800 (PST)  \n",
       "4              67000  Thu Dec 18 2014 12:30:00 GMT-0800 (PST)  \n",
       "...              ...                                      ...  \n",
       "558806         33000  Thu Jul 09 2015 07:00:00 GMT-0700 (PDT)  \n",
       "558807         30800  Wed Jul 08 2015 09:30:00 GMT-0700 (PDT)  \n",
       "558808         34000  Wed Jul 08 2015 09:30:00 GMT-0700 (PDT)  \n",
       "558809         11100  Thu Jul 09 2015 06:45:00 GMT-0700 (PDT)  \n",
       "558810         26700  Thu May 28 2015 05:30:00 GMT-0700 (PDT)  \n",
       "\n",
       "[558811 rows x 16 columns]"
      ]
     },
     "execution_count": 13,
     "metadata": {},
     "output_type": "execute_result"
    }
   ],
   "source": [
    "datos"
   ]
  },
  {
   "cell_type": "code",
   "execution_count": 27,
   "metadata": {},
   "outputs": [
    {
     "data": {
      "text/html": [
       "<div>\n",
       "<style scoped>\n",
       "    .dataframe tbody tr th:only-of-type {\n",
       "        vertical-align: middle;\n",
       "    }\n",
       "\n",
       "    .dataframe tbody tr th {\n",
       "        vertical-align: top;\n",
       "    }\n",
       "\n",
       "    .dataframe thead th {\n",
       "        text-align: right;\n",
       "    }\n",
       "</style>\n",
       "<table border=\"1\" class=\"dataframe\">\n",
       "  <thead>\n",
       "    <tr style=\"text-align: right;\">\n",
       "      <th></th>\n",
       "      <th>year</th>\n",
       "      <th>make</th>\n",
       "      <th>model</th>\n",
       "      <th>trim</th>\n",
       "      <th>body</th>\n",
       "      <th>transmission</th>\n",
       "      <th>vin</th>\n",
       "      <th>state</th>\n",
       "      <th>condition</th>\n",
       "      <th>odometer</th>\n",
       "      <th>color</th>\n",
       "      <th>interior</th>\n",
       "      <th>seller</th>\n",
       "      <th>mmr</th>\n",
       "      <th>sellingprice</th>\n",
       "      <th>saledate</th>\n",
       "    </tr>\n",
       "  </thead>\n",
       "  <tbody>\n",
       "    <tr>\n",
       "      <th>0</th>\n",
       "      <td>2015</td>\n",
       "      <td>Kia</td>\n",
       "      <td>Sorento</td>\n",
       "      <td>LX</td>\n",
       "      <td>SUV</td>\n",
       "      <td>automatic</td>\n",
       "      <td>5xyktca69fg566472</td>\n",
       "      <td>ca</td>\n",
       "      <td>5.0</td>\n",
       "      <td>16639.0</td>\n",
       "      <td>white</td>\n",
       "      <td>black</td>\n",
       "      <td>kia motors america, inc</td>\n",
       "      <td>20500</td>\n",
       "      <td>21500</td>\n",
       "      <td>Tue Dec 16 2014 12:30:00 GMT-0800 (PST)</td>\n",
       "    </tr>\n",
       "    <tr>\n",
       "      <th>1</th>\n",
       "      <td>2015</td>\n",
       "      <td>Kia</td>\n",
       "      <td>Sorento</td>\n",
       "      <td>LX</td>\n",
       "      <td>SUV</td>\n",
       "      <td>automatic</td>\n",
       "      <td>5xyktca69fg561319</td>\n",
       "      <td>ca</td>\n",
       "      <td>5.0</td>\n",
       "      <td>9393.0</td>\n",
       "      <td>white</td>\n",
       "      <td>beige</td>\n",
       "      <td>kia motors america, inc</td>\n",
       "      <td>20800</td>\n",
       "      <td>21500</td>\n",
       "      <td>Tue Dec 16 2014 12:30:00 GMT-0800 (PST)</td>\n",
       "    </tr>\n",
       "    <tr>\n",
       "      <th>2</th>\n",
       "      <td>2014</td>\n",
       "      <td>BMW</td>\n",
       "      <td>3 Series</td>\n",
       "      <td>328i SULEV</td>\n",
       "      <td>Sedan</td>\n",
       "      <td>automatic</td>\n",
       "      <td>wba3c1c51ek116351</td>\n",
       "      <td>ca</td>\n",
       "      <td>4.5</td>\n",
       "      <td>1331.0</td>\n",
       "      <td>gray</td>\n",
       "      <td>black</td>\n",
       "      <td>financial services remarketing (lease)</td>\n",
       "      <td>31900</td>\n",
       "      <td>30000</td>\n",
       "      <td>Thu Jan 15 2015 04:30:00 GMT-0800 (PST)</td>\n",
       "    </tr>\n",
       "    <tr>\n",
       "      <th>3</th>\n",
       "      <td>2015</td>\n",
       "      <td>Volvo</td>\n",
       "      <td>S60</td>\n",
       "      <td>T5</td>\n",
       "      <td>Sedan</td>\n",
       "      <td>automatic</td>\n",
       "      <td>yv1612tb4f1310987</td>\n",
       "      <td>ca</td>\n",
       "      <td>4.1</td>\n",
       "      <td>14282.0</td>\n",
       "      <td>white</td>\n",
       "      <td>black</td>\n",
       "      <td>volvo na rep/world omni</td>\n",
       "      <td>27500</td>\n",
       "      <td>27750</td>\n",
       "      <td>Thu Jan 29 2015 04:30:00 GMT-0800 (PST)</td>\n",
       "    </tr>\n",
       "    <tr>\n",
       "      <th>4</th>\n",
       "      <td>2014</td>\n",
       "      <td>BMW</td>\n",
       "      <td>6 Series Gran Coupe</td>\n",
       "      <td>650i</td>\n",
       "      <td>Sedan</td>\n",
       "      <td>automatic</td>\n",
       "      <td>wba6b2c57ed129731</td>\n",
       "      <td>ca</td>\n",
       "      <td>4.3</td>\n",
       "      <td>2641.0</td>\n",
       "      <td>gray</td>\n",
       "      <td>black</td>\n",
       "      <td>financial services remarketing (lease)</td>\n",
       "      <td>66000</td>\n",
       "      <td>67000</td>\n",
       "      <td>Thu Dec 18 2014 12:30:00 GMT-0800 (PST)</td>\n",
       "    </tr>\n",
       "    <tr>\n",
       "      <th>5</th>\n",
       "      <td>2015</td>\n",
       "      <td>Nissan</td>\n",
       "      <td>Altima</td>\n",
       "      <td>2.5 S</td>\n",
       "      <td>Sedan</td>\n",
       "      <td>automatic</td>\n",
       "      <td>1n4al3ap1fn326013</td>\n",
       "      <td>ca</td>\n",
       "      <td>1.0</td>\n",
       "      <td>5554.0</td>\n",
       "      <td>gray</td>\n",
       "      <td>black</td>\n",
       "      <td>enterprise vehicle exchange / tra / rental / t...</td>\n",
       "      <td>15350</td>\n",
       "      <td>10900</td>\n",
       "      <td>Tue Dec 30 2014 12:00:00 GMT-0800 (PST)</td>\n",
       "    </tr>\n",
       "    <tr>\n",
       "      <th>6</th>\n",
       "      <td>2014</td>\n",
       "      <td>BMW</td>\n",
       "      <td>M5</td>\n",
       "      <td>Base</td>\n",
       "      <td>Sedan</td>\n",
       "      <td>automatic</td>\n",
       "      <td>wbsfv9c51ed593089</td>\n",
       "      <td>ca</td>\n",
       "      <td>3.4</td>\n",
       "      <td>14943.0</td>\n",
       "      <td>black</td>\n",
       "      <td>black</td>\n",
       "      <td>the hertz corporation</td>\n",
       "      <td>69000</td>\n",
       "      <td>65000</td>\n",
       "      <td>Wed Dec 17 2014 12:30:00 GMT-0800 (PST)</td>\n",
       "    </tr>\n",
       "    <tr>\n",
       "      <th>7</th>\n",
       "      <td>2014</td>\n",
       "      <td>Chevrolet</td>\n",
       "      <td>Cruze</td>\n",
       "      <td>1LT</td>\n",
       "      <td>Sedan</td>\n",
       "      <td>automatic</td>\n",
       "      <td>1g1pc5sb2e7128460</td>\n",
       "      <td>ca</td>\n",
       "      <td>2.0</td>\n",
       "      <td>28617.0</td>\n",
       "      <td>black</td>\n",
       "      <td>black</td>\n",
       "      <td>enterprise vehicle exchange / tra / rental / t...</td>\n",
       "      <td>11900</td>\n",
       "      <td>9800</td>\n",
       "      <td>Tue Dec 16 2014 13:00:00 GMT-0800 (PST)</td>\n",
       "    </tr>\n",
       "    <tr>\n",
       "      <th>8</th>\n",
       "      <td>2014</td>\n",
       "      <td>Audi</td>\n",
       "      <td>A4</td>\n",
       "      <td>2.0T Premium Plus quattro</td>\n",
       "      <td>Sedan</td>\n",
       "      <td>automatic</td>\n",
       "      <td>wauffafl3en030343</td>\n",
       "      <td>ca</td>\n",
       "      <td>4.2</td>\n",
       "      <td>9557.0</td>\n",
       "      <td>white</td>\n",
       "      <td>black</td>\n",
       "      <td>audi mission viejo</td>\n",
       "      <td>32100</td>\n",
       "      <td>32250</td>\n",
       "      <td>Thu Dec 18 2014 12:00:00 GMT-0800 (PST)</td>\n",
       "    </tr>\n",
       "    <tr>\n",
       "      <th>9</th>\n",
       "      <td>2014</td>\n",
       "      <td>Chevrolet</td>\n",
       "      <td>Camaro</td>\n",
       "      <td>LT</td>\n",
       "      <td>Convertible</td>\n",
       "      <td>automatic</td>\n",
       "      <td>2g1fb3d37e9218789</td>\n",
       "      <td>ca</td>\n",
       "      <td>3.0</td>\n",
       "      <td>4809.0</td>\n",
       "      <td>red</td>\n",
       "      <td>black</td>\n",
       "      <td>d/m auto sales inc</td>\n",
       "      <td>26300</td>\n",
       "      <td>17500</td>\n",
       "      <td>Tue Jan 20 2015 04:00:00 GMT-0800 (PST)</td>\n",
       "    </tr>\n",
       "  </tbody>\n",
       "</table>\n",
       "</div>"
      ],
      "text/plain": [
       "   year       make                model                       trim  \\\n",
       "0  2015        Kia              Sorento                         LX   \n",
       "1  2015        Kia              Sorento                         LX   \n",
       "2  2014        BMW             3 Series                 328i SULEV   \n",
       "3  2015      Volvo                  S60                         T5   \n",
       "4  2014        BMW  6 Series Gran Coupe                       650i   \n",
       "5  2015     Nissan               Altima                      2.5 S   \n",
       "6  2014        BMW                   M5                       Base   \n",
       "7  2014  Chevrolet                Cruze                        1LT   \n",
       "8  2014       Audi                   A4  2.0T Premium Plus quattro   \n",
       "9  2014  Chevrolet               Camaro                         LT   \n",
       "\n",
       "          body transmission                vin state  condition  odometer  \\\n",
       "0          SUV    automatic  5xyktca69fg566472    ca        5.0   16639.0   \n",
       "1          SUV    automatic  5xyktca69fg561319    ca        5.0    9393.0   \n",
       "2        Sedan    automatic  wba3c1c51ek116351    ca        4.5    1331.0   \n",
       "3        Sedan    automatic  yv1612tb4f1310987    ca        4.1   14282.0   \n",
       "4        Sedan    automatic  wba6b2c57ed129731    ca        4.3    2641.0   \n",
       "5        Sedan    automatic  1n4al3ap1fn326013    ca        1.0    5554.0   \n",
       "6        Sedan    automatic  wbsfv9c51ed593089    ca        3.4   14943.0   \n",
       "7        Sedan    automatic  1g1pc5sb2e7128460    ca        2.0   28617.0   \n",
       "8        Sedan    automatic  wauffafl3en030343    ca        4.2    9557.0   \n",
       "9  Convertible    automatic  2g1fb3d37e9218789    ca        3.0    4809.0   \n",
       "\n",
       "   color interior                                             seller    mmr  \\\n",
       "0  white    black                            kia motors america, inc  20500   \n",
       "1  white    beige                            kia motors america, inc  20800   \n",
       "2   gray    black             financial services remarketing (lease)  31900   \n",
       "3  white    black                            volvo na rep/world omni  27500   \n",
       "4   gray    black             financial services remarketing (lease)  66000   \n",
       "5   gray    black  enterprise vehicle exchange / tra / rental / t...  15350   \n",
       "6  black    black                              the hertz corporation  69000   \n",
       "7  black    black  enterprise vehicle exchange / tra / rental / t...  11900   \n",
       "8  white    black                                 audi mission viejo  32100   \n",
       "9    red    black                                 d/m auto sales inc  26300   \n",
       "\n",
       "   sellingprice                                 saledate  \n",
       "0         21500  Tue Dec 16 2014 12:30:00 GMT-0800 (PST)  \n",
       "1         21500  Tue Dec 16 2014 12:30:00 GMT-0800 (PST)  \n",
       "2         30000  Thu Jan 15 2015 04:30:00 GMT-0800 (PST)  \n",
       "3         27750  Thu Jan 29 2015 04:30:00 GMT-0800 (PST)  \n",
       "4         67000  Thu Dec 18 2014 12:30:00 GMT-0800 (PST)  \n",
       "5         10900  Tue Dec 30 2014 12:00:00 GMT-0800 (PST)  \n",
       "6         65000  Wed Dec 17 2014 12:30:00 GMT-0800 (PST)  \n",
       "7          9800  Tue Dec 16 2014 13:00:00 GMT-0800 (PST)  \n",
       "8         32250  Thu Dec 18 2014 12:00:00 GMT-0800 (PST)  \n",
       "9         17500  Tue Jan 20 2015 04:00:00 GMT-0800 (PST)  "
      ]
     },
     "execution_count": 27,
     "metadata": {},
     "output_type": "execute_result"
    }
   ],
   "source": [
    "datos.head(10)"
   ]
  },
  {
   "cell_type": "code",
   "execution_count": 28,
   "metadata": {
    "colab": {
     "base_uri": "https://localhost:8080/"
    },
    "id": "IGrvbIZN-8qz",
    "outputId": "ca471c79-595e-4fc8-8013-154cc40f2400"
   },
   "outputs": [
    {
     "data": {
      "text/plain": [
       "year                34\n",
       "make                96\n",
       "model              973\n",
       "trim              1975\n",
       "body                86\n",
       "transmission         2\n",
       "vin             550296\n",
       "state               38\n",
       "condition           42\n",
       "odometer        172278\n",
       "color               20\n",
       "interior            17\n",
       "seller           14264\n",
       "mmr               1101\n",
       "sellingprice      1887\n",
       "saledate          3745\n",
       "dtype: int64"
      ]
     },
     "execution_count": 28,
     "metadata": {},
     "output_type": "execute_result"
    }
   ],
   "source": [
    "#Muestra los diferentes valores que se encuentra en la columna\n",
    "datos.nunique()"
   ]
  },
  {
   "cell_type": "code",
   "execution_count": 29,
   "metadata": {
    "colab": {
     "base_uri": "https://localhost:8080/"
    },
    "id": "dMmn-5ba--yQ",
    "outputId": "d78dbe1c-01a3-4dc1-c622-231b8e8ea89f"
   },
   "outputs": [
    {
     "name": "stdout",
     "output_type": "stream",
     "text": [
      "<class 'pandas.core.frame.DataFrame'>\n",
      "RangeIndex: 558811 entries, 0 to 558810\n",
      "Data columns (total 16 columns):\n",
      " #   Column        Non-Null Count   Dtype  \n",
      "---  ------        --------------   -----  \n",
      " 0   year          558811 non-null  int64  \n",
      " 1   make          548510 non-null  object \n",
      " 2   model         548412 non-null  object \n",
      " 3   trim          548160 non-null  object \n",
      " 4   body          545616 non-null  object \n",
      " 5   transmission  493458 non-null  object \n",
      " 6   vin           558811 non-null  object \n",
      " 7   state         558811 non-null  object \n",
      " 8   condition     558811 non-null  float64\n",
      " 9   odometer      558811 non-null  float64\n",
      " 10  color         558062 non-null  object \n",
      " 11  interior      558062 non-null  object \n",
      " 12  seller        558811 non-null  object \n",
      " 13  mmr           558811 non-null  int64  \n",
      " 14  sellingprice  558811 non-null  int64  \n",
      " 15  saledate      558811 non-null  object \n",
      "dtypes: float64(2), int64(3), object(11)\n",
      "memory usage: 68.2+ MB\n"
     ]
    }
   ],
   "source": [
    "#Muestra las 16 caracteristicas que tiene el dataset \n",
    "#(non-null que cuenta los valores no nulos, dytipe= muestra el tipo de variables )\n",
    "#transformacion de datos categoricos a numericos\n",
    "datos.info()"
   ]
  },
  {
   "cell_type": "markdown",
   "metadata": {},
   "source": [
    "Verificamos la cantidad de valores nulos en el dataset"
   ]
  },
  {
   "cell_type": "code",
   "execution_count": 30,
   "metadata": {
    "colab": {
     "base_uri": "https://localhost:8080/"
    },
    "id": "wBnq3gdd0HLo",
    "outputId": "0e0ad5c0-2801-4776-f48f-91bb0332d44f"
   },
   "outputs": [
    {
     "data": {
      "text/plain": [
       "year                0\n",
       "make            10301\n",
       "model           10399\n",
       "trim            10651\n",
       "body            13195\n",
       "transmission    65353\n",
       "vin                 0\n",
       "state               0\n",
       "condition           0\n",
       "odometer            0\n",
       "color             749\n",
       "interior          749\n",
       "seller              0\n",
       "mmr                 0\n",
       "sellingprice        0\n",
       "saledate            0\n",
       "dtype: int64"
      ]
     },
     "execution_count": 30,
     "metadata": {},
     "output_type": "execute_result"
    }
   ],
   "source": [
    "#Muestra la cantidad de valores que estan vacios o nulos \n",
    "#Identificar los valores nulos para rellenar los dataset se aplica los promedios o medias\n",
    "datos.isnull().sum()"
   ]
  },
  {
   "cell_type": "markdown",
   "metadata": {},
   "source": [
    "Aquellos en los que existen valores nulos llenamos con la media de la informacion asi no perdemos datos "
   ]
  },
  {
   "cell_type": "code",
   "execution_count": 31,
   "metadata": {
    "colab": {
     "base_uri": "https://localhost:8080/"
    },
    "id": "ooewpFAy0nqf",
    "outputId": "370d4200-7464-4e65-b353-ecb13cc575b5"
   },
   "outputs": [
    {
     "data": {
      "text/plain": [
       "year                0\n",
       "make            10301\n",
       "model           10399\n",
       "trim            10651\n",
       "body            13195\n",
       "transmission    65353\n",
       "vin                 0\n",
       "state               0\n",
       "condition           0\n",
       "odometer            0\n",
       "color             749\n",
       "interior          749\n",
       "seller              0\n",
       "mmr                 0\n",
       "sellingprice        0\n",
       "saledate            0\n",
       "dtype: int64"
      ]
     },
     "execution_count": 31,
     "metadata": {},
     "output_type": "execute_result"
    }
   ],
   "source": [
    "#Rellena los valores nulos de las columnas o la medias de las columnas \n",
    "datos['odometer'].fillna(datos['odometer'].mean(), inplace=True)\n",
    "#condicion :  las demas no se cambia por las variables categoricas\n",
    "datos['condition'].fillna(datos['condition'].mean(), inplace=True)\n",
    "datos.isnull().sum()"
   ]
  },
  {
   "cell_type": "code",
   "execution_count": 32,
   "metadata": {
    "id": "HCcLQFfN2hbY"
   },
   "outputs": [],
   "source": [
    "#Es para guardar y eliminar las variables nulos\n",
    "datos_1= datos.dropna()"
   ]
  },
  {
   "cell_type": "code",
   "execution_count": 33,
   "metadata": {
    "colab": {
     "base_uri": "https://localhost:8080/"
    },
    "id": "0gR1tVX82nT4",
    "outputId": "676d3f0b-7de3-4ab6-e850-97f8d57a6c9a",
    "scrolled": true
   },
   "outputs": [
    {
     "data": {
      "text/plain": [
       "year            0\n",
       "make            0\n",
       "model           0\n",
       "trim            0\n",
       "body            0\n",
       "transmission    0\n",
       "vin             0\n",
       "state           0\n",
       "condition       0\n",
       "odometer        0\n",
       "color           0\n",
       "interior        0\n",
       "seller          0\n",
       "mmr             0\n",
       "sellingprice    0\n",
       "saledate        0\n",
       "dtype: int64"
      ]
     },
     "execution_count": 33,
     "metadata": {},
     "output_type": "execute_result"
    }
   ],
   "source": [
    "#Se vuelve a correr la variable insnull para determinar si existe aun datos nulos\n",
    "datos_1.isnull().sum()"
   ]
  },
  {
   "cell_type": "markdown",
   "metadata": {},
   "source": [
    "Limpiamos el data set de las colunmas que no aportan infromacion relevante"
   ]
  },
  {
   "cell_type": "code",
   "execution_count": 34,
   "metadata": {
    "id": "VGn5zYexFP-r"
   },
   "outputs": [],
   "source": [
    "#Es para eliminar las columnas correspondiente a los datos que no aportan o irrelevantes al dataset\n",
    "data_clean = datos_1.drop(['trim','vin','state','saledate'], axis= 1)"
   ]
  },
  {
   "cell_type": "code",
   "execution_count": 35,
   "metadata": {
    "colab": {
     "base_uri": "https://localhost:8080/",
     "height": 571
    },
    "id": "QX2h8mjr1nYR",
    "outputId": "c7ac7a3a-9091-4893-ad06-0af216d381d2"
   },
   "outputs": [
    {
     "data": {
      "text/html": [
       "<div>\n",
       "<style scoped>\n",
       "    .dataframe tbody tr th:only-of-type {\n",
       "        vertical-align: middle;\n",
       "    }\n",
       "\n",
       "    .dataframe tbody tr th {\n",
       "        vertical-align: top;\n",
       "    }\n",
       "\n",
       "    .dataframe thead th {\n",
       "        text-align: right;\n",
       "    }\n",
       "</style>\n",
       "<table border=\"1\" class=\"dataframe\">\n",
       "  <thead>\n",
       "    <tr style=\"text-align: right;\">\n",
       "      <th></th>\n",
       "      <th>year</th>\n",
       "      <th>make</th>\n",
       "      <th>model</th>\n",
       "      <th>body</th>\n",
       "      <th>transmission</th>\n",
       "      <th>condition</th>\n",
       "      <th>odometer</th>\n",
       "      <th>color</th>\n",
       "      <th>interior</th>\n",
       "      <th>seller</th>\n",
       "      <th>mmr</th>\n",
       "      <th>sellingprice</th>\n",
       "    </tr>\n",
       "  </thead>\n",
       "  <tbody>\n",
       "    <tr>\n",
       "      <th>0</th>\n",
       "      <td>2015</td>\n",
       "      <td>Kia</td>\n",
       "      <td>Sorento</td>\n",
       "      <td>SUV</td>\n",
       "      <td>automatic</td>\n",
       "      <td>5.0</td>\n",
       "      <td>16639.0</td>\n",
       "      <td>white</td>\n",
       "      <td>black</td>\n",
       "      <td>kia motors america, inc</td>\n",
       "      <td>20500</td>\n",
       "      <td>21500</td>\n",
       "    </tr>\n",
       "    <tr>\n",
       "      <th>1</th>\n",
       "      <td>2015</td>\n",
       "      <td>Kia</td>\n",
       "      <td>Sorento</td>\n",
       "      <td>SUV</td>\n",
       "      <td>automatic</td>\n",
       "      <td>5.0</td>\n",
       "      <td>9393.0</td>\n",
       "      <td>white</td>\n",
       "      <td>beige</td>\n",
       "      <td>kia motors america, inc</td>\n",
       "      <td>20800</td>\n",
       "      <td>21500</td>\n",
       "    </tr>\n",
       "    <tr>\n",
       "      <th>2</th>\n",
       "      <td>2014</td>\n",
       "      <td>BMW</td>\n",
       "      <td>3 Series</td>\n",
       "      <td>Sedan</td>\n",
       "      <td>automatic</td>\n",
       "      <td>4.5</td>\n",
       "      <td>1331.0</td>\n",
       "      <td>gray</td>\n",
       "      <td>black</td>\n",
       "      <td>financial services remarketing (lease)</td>\n",
       "      <td>31900</td>\n",
       "      <td>30000</td>\n",
       "    </tr>\n",
       "    <tr>\n",
       "      <th>3</th>\n",
       "      <td>2015</td>\n",
       "      <td>Volvo</td>\n",
       "      <td>S60</td>\n",
       "      <td>Sedan</td>\n",
       "      <td>automatic</td>\n",
       "      <td>4.1</td>\n",
       "      <td>14282.0</td>\n",
       "      <td>white</td>\n",
       "      <td>black</td>\n",
       "      <td>volvo na rep/world omni</td>\n",
       "      <td>27500</td>\n",
       "      <td>27750</td>\n",
       "    </tr>\n",
       "    <tr>\n",
       "      <th>4</th>\n",
       "      <td>2014</td>\n",
       "      <td>BMW</td>\n",
       "      <td>6 Series Gran Coupe</td>\n",
       "      <td>Sedan</td>\n",
       "      <td>automatic</td>\n",
       "      <td>4.3</td>\n",
       "      <td>2641.0</td>\n",
       "      <td>gray</td>\n",
       "      <td>black</td>\n",
       "      <td>financial services remarketing (lease)</td>\n",
       "      <td>66000</td>\n",
       "      <td>67000</td>\n",
       "    </tr>\n",
       "    <tr>\n",
       "      <th>...</th>\n",
       "      <td>...</td>\n",
       "      <td>...</td>\n",
       "      <td>...</td>\n",
       "      <td>...</td>\n",
       "      <td>...</td>\n",
       "      <td>...</td>\n",
       "      <td>...</td>\n",
       "      <td>...</td>\n",
       "      <td>...</td>\n",
       "      <td>...</td>\n",
       "      <td>...</td>\n",
       "      <td>...</td>\n",
       "    </tr>\n",
       "    <tr>\n",
       "      <th>558805</th>\n",
       "      <td>2011</td>\n",
       "      <td>BMW</td>\n",
       "      <td>5 Series</td>\n",
       "      <td>Sedan</td>\n",
       "      <td>automatic</td>\n",
       "      <td>3.9</td>\n",
       "      <td>66403.0</td>\n",
       "      <td>white</td>\n",
       "      <td>brown</td>\n",
       "      <td>lauderdale imports ltd bmw pembrok pines</td>\n",
       "      <td>20300</td>\n",
       "      <td>22800</td>\n",
       "    </tr>\n",
       "    <tr>\n",
       "      <th>558807</th>\n",
       "      <td>2012</td>\n",
       "      <td>Ram</td>\n",
       "      <td>2500</td>\n",
       "      <td>Crew Cab</td>\n",
       "      <td>automatic</td>\n",
       "      <td>5.0</td>\n",
       "      <td>54393.0</td>\n",
       "      <td>white</td>\n",
       "      <td>black</td>\n",
       "      <td>i -5 uhlmann rv</td>\n",
       "      <td>30200</td>\n",
       "      <td>30800</td>\n",
       "    </tr>\n",
       "    <tr>\n",
       "      <th>558808</th>\n",
       "      <td>2012</td>\n",
       "      <td>BMW</td>\n",
       "      <td>X5</td>\n",
       "      <td>SUV</td>\n",
       "      <td>automatic</td>\n",
       "      <td>4.8</td>\n",
       "      <td>50561.0</td>\n",
       "      <td>black</td>\n",
       "      <td>black</td>\n",
       "      <td>financial services remarketing (lease)</td>\n",
       "      <td>29800</td>\n",
       "      <td>34000</td>\n",
       "    </tr>\n",
       "    <tr>\n",
       "      <th>558809</th>\n",
       "      <td>2015</td>\n",
       "      <td>Nissan</td>\n",
       "      <td>Altima</td>\n",
       "      <td>sedan</td>\n",
       "      <td>automatic</td>\n",
       "      <td>3.8</td>\n",
       "      <td>16658.0</td>\n",
       "      <td>white</td>\n",
       "      <td>black</td>\n",
       "      <td>enterprise vehicle exchange / tra / rental / t...</td>\n",
       "      <td>15100</td>\n",
       "      <td>11100</td>\n",
       "    </tr>\n",
       "    <tr>\n",
       "      <th>558810</th>\n",
       "      <td>2014</td>\n",
       "      <td>Ford</td>\n",
       "      <td>F-150</td>\n",
       "      <td>SuperCrew</td>\n",
       "      <td>automatic</td>\n",
       "      <td>3.4</td>\n",
       "      <td>15008.0</td>\n",
       "      <td>gray</td>\n",
       "      <td>gray</td>\n",
       "      <td>ford motor credit company,llc pd</td>\n",
       "      <td>29600</td>\n",
       "      <td>26700</td>\n",
       "    </tr>\n",
       "  </tbody>\n",
       "</table>\n",
       "<p>481757 rows × 12 columns</p>\n",
       "</div>"
      ],
      "text/plain": [
       "        year    make                model       body transmission  condition  \\\n",
       "0       2015     Kia              Sorento        SUV    automatic        5.0   \n",
       "1       2015     Kia              Sorento        SUV    automatic        5.0   \n",
       "2       2014     BMW             3 Series      Sedan    automatic        4.5   \n",
       "3       2015   Volvo                  S60      Sedan    automatic        4.1   \n",
       "4       2014     BMW  6 Series Gran Coupe      Sedan    automatic        4.3   \n",
       "...      ...     ...                  ...        ...          ...        ...   \n",
       "558805  2011     BMW             5 Series      Sedan    automatic        3.9   \n",
       "558807  2012     Ram                 2500   Crew Cab    automatic        5.0   \n",
       "558808  2012     BMW                   X5        SUV    automatic        4.8   \n",
       "558809  2015  Nissan               Altima      sedan    automatic        3.8   \n",
       "558810  2014    Ford                F-150  SuperCrew    automatic        3.4   \n",
       "\n",
       "        odometer  color interior  \\\n",
       "0        16639.0  white    black   \n",
       "1         9393.0  white    beige   \n",
       "2         1331.0   gray    black   \n",
       "3        14282.0  white    black   \n",
       "4         2641.0   gray    black   \n",
       "...          ...    ...      ...   \n",
       "558805   66403.0  white    brown   \n",
       "558807   54393.0  white    black   \n",
       "558808   50561.0  black    black   \n",
       "558809   16658.0  white    black   \n",
       "558810   15008.0   gray     gray   \n",
       "\n",
       "                                                   seller    mmr  sellingprice  \n",
       "0                                 kia motors america, inc  20500         21500  \n",
       "1                                 kia motors america, inc  20800         21500  \n",
       "2                  financial services remarketing (lease)  31900         30000  \n",
       "3                                 volvo na rep/world omni  27500         27750  \n",
       "4                  financial services remarketing (lease)  66000         67000  \n",
       "...                                                   ...    ...           ...  \n",
       "558805           lauderdale imports ltd bmw pembrok pines  20300         22800  \n",
       "558807                                    i -5 uhlmann rv  30200         30800  \n",
       "558808             financial services remarketing (lease)  29800         34000  \n",
       "558809  enterprise vehicle exchange / tra / rental / t...  15100         11100  \n",
       "558810                   ford motor credit company,llc pd  29600         26700  \n",
       "\n",
       "[481757 rows x 12 columns]"
      ]
     },
     "execution_count": 35,
     "metadata": {},
     "output_type": "execute_result"
    }
   ],
   "source": [
    "#Imprime los datos para ver q ya no hay datos nulos\n",
    "data_clean"
   ]
  },
  {
   "cell_type": "code",
   "execution_count": 36,
   "metadata": {
    "colab": {
     "base_uri": "https://localhost:8080/"
    },
    "id": "dpRYcJO5FR93",
    "outputId": "0872d065-717d-4e6b-fa70-0565971ed216"
   },
   "outputs": [
    {
     "name": "stdout",
     "output_type": "stream",
     "text": [
      "<class 'pandas.core.frame.DataFrame'>\n",
      "Int64Index: 481757 entries, 0 to 558810\n",
      "Data columns (total 12 columns):\n",
      " #   Column        Non-Null Count   Dtype  \n",
      "---  ------        --------------   -----  \n",
      " 0   year          481757 non-null  int64  \n",
      " 1   make          481757 non-null  object \n",
      " 2   model         481757 non-null  object \n",
      " 3   body          481757 non-null  object \n",
      " 4   transmission  481757 non-null  object \n",
      " 5   condition     481757 non-null  float64\n",
      " 6   odometer      481757 non-null  float64\n",
      " 7   color         481757 non-null  object \n",
      " 8   interior      481757 non-null  object \n",
      " 9   seller        481757 non-null  object \n",
      " 10  mmr           481757 non-null  int64  \n",
      " 11  sellingprice  481757 non-null  int64  \n",
      "dtypes: float64(2), int64(3), object(7)\n",
      "memory usage: 47.8+ MB\n"
     ]
    }
   ],
   "source": [
    "#Imprime la informacion nueva de los datos nueva para comprobar que todos tenga datos iguales\n",
    "data_clean.info()"
   ]
  },
  {
   "cell_type": "code",
   "execution_count": 37,
   "metadata": {
    "colab": {
     "base_uri": "https://localhost:8080/"
    },
    "id": "G_akS9qnF4H-",
    "outputId": "b45099b5-a3d9-4fb5-e18e-badcd37026cb"
   },
   "outputs": [
    {
     "data": {
      "text/plain": [
       "year                26\n",
       "make                53\n",
       "model              771\n",
       "body                85\n",
       "transmission         2\n",
       "condition           42\n",
       "odometer        162978\n",
       "color               20\n",
       "interior            17\n",
       "seller           13036\n",
       "mmr               1099\n",
       "sellingprice      1822\n",
       "dtype: int64"
      ]
     },
     "execution_count": 37,
     "metadata": {},
     "output_type": "execute_result"
    }
   ],
   "source": [
    "#Imprime nunique los diferentes valores que tienen cada columna\n",
    "data_clean.nunique()"
   ]
  },
  {
   "cell_type": "markdown",
   "metadata": {
    "id": "BlDP7H5qGaKl"
   },
   "source": []
  },
  {
   "cell_type": "code",
   "execution_count": 38,
   "metadata": {
    "id": "F3URwRQRIfHm"
   },
   "outputs": [
    {
     "name": "stdout",
     "output_type": "stream",
     "text": [
      "Requirement already satisfied: sklearn in c:\\programdata\\anaconda3\\lib\\site-packages (0.0)\n",
      "Requirement already satisfied: scikit-learn in c:\\programdata\\anaconda3\\lib\\site-packages (from sklearn) (0.24.2)\n",
      "Requirement already satisfied: joblib>=0.11 in c:\\programdata\\anaconda3\\lib\\site-packages (from scikit-learn->sklearn) (1.1.0)\n",
      "Requirement already satisfied: scipy>=0.19.1 in c:\\programdata\\anaconda3\\lib\\site-packages (from scikit-learn->sklearn) (1.7.1)\n",
      "Requirement already satisfied: threadpoolctl>=2.0.0 in c:\\programdata\\anaconda3\\lib\\site-packages (from scikit-learn->sklearn) (2.2.0)\n",
      "Requirement already satisfied: numpy>=1.13.3 in c:\\programdata\\anaconda3\\lib\\site-packages (from scikit-learn->sklearn) (1.20.3)\n"
     ]
    }
   ],
   "source": [
    "#Instalar librerias de jupyter\n",
    "!pip install sklearn\n"
   ]
  },
  {
   "cell_type": "markdown",
   "metadata": {},
   "source": [
    "label encoder para cambiar la variables categoricas a un valor numerico "
   ]
  },
  {
   "cell_type": "code",
   "execution_count": 39,
   "metadata": {},
   "outputs": [],
   "source": [
    "#Invocan ala funcion prepocesi para utilizar el labelEncoder\n",
    "from sklearn.preprocessing import LabelEncoder as LBE"
   ]
  },
  {
   "cell_type": "code",
   "execution_count": 40,
   "metadata": {
    "id": "0JPhSXXOz2gx"
   },
   "outputs": [],
   "source": [
    "#Cambia los datos categoricos a datos numericos con el LabelEncodeng\n",
    "data_clean['make'] = LBE().fit_transform(data_clean['make'])\n",
    "data_clean['model'] = LBE().fit_transform(data_clean['model'])\n",
    "data_clean['body'] = LBE().fit_transform(data_clean['body'])\n",
    "data_clean['transmission'] = LBE().fit_transform(data_clean['transmission'])\n",
    "data_clean['color'] = LBE().fit_transform(data_clean['color'])\n",
    "data_clean['interior'] = LBE().fit_transform(data_clean['interior'])\n",
    "data_clean['seller'] = LBE().fit_transform(data_clean['seller'])"
   ]
  },
  {
   "cell_type": "code",
   "execution_count": 25,
   "metadata": {
    "colab": {
     "base_uri": "https://localhost:8080/"
    },
    "id": "mtPCjMr43r_k",
    "outputId": "e59c87f8-90ef-4a2a-fcb5-7ac0213ae15e"
   },
   "outputs": [
    {
     "name": "stdout",
     "output_type": "stream",
     "text": [
      "<class 'pandas.core.frame.DataFrame'>\n",
      "Int64Index: 481757 entries, 0 to 558810\n",
      "Data columns (total 12 columns):\n",
      " #   Column        Non-Null Count   Dtype  \n",
      "---  ------        --------------   -----  \n",
      " 0   year          481757 non-null  int64  \n",
      " 1   make          481757 non-null  int32  \n",
      " 2   model         481757 non-null  int32  \n",
      " 3   body          481757 non-null  int32  \n",
      " 4   transmission  481757 non-null  int32  \n",
      " 5   condition     481757 non-null  float64\n",
      " 6   odometer      481757 non-null  float64\n",
      " 7   color         481757 non-null  int32  \n",
      " 8   interior      481757 non-null  int32  \n",
      " 9   seller        481757 non-null  int32  \n",
      " 10  mmr           481757 non-null  int64  \n",
      " 11  sellingprice  481757 non-null  int64  \n",
      "dtypes: float64(2), int32(7), int64(3)\n",
      "memory usage: 34.9 MB\n"
     ]
    }
   ],
   "source": [
    "#Se verifica que todos los datos son numericos\n",
    "data_clean.info()"
   ]
  },
  {
   "cell_type": "code",
   "execution_count": 41,
   "metadata": {
    "colab": {
     "base_uri": "https://localhost:8080/",
     "height": 423
    },
    "id": "AA9iONq_4yg2",
    "outputId": "69f98771-9e65-451a-8c1a-960322364ddf"
   },
   "outputs": [
    {
     "data": {
      "text/html": [
       "<div>\n",
       "<style scoped>\n",
       "    .dataframe tbody tr th:only-of-type {\n",
       "        vertical-align: middle;\n",
       "    }\n",
       "\n",
       "    .dataframe tbody tr th {\n",
       "        vertical-align: top;\n",
       "    }\n",
       "\n",
       "    .dataframe thead th {\n",
       "        text-align: right;\n",
       "    }\n",
       "</style>\n",
       "<table border=\"1\" class=\"dataframe\">\n",
       "  <thead>\n",
       "    <tr style=\"text-align: right;\">\n",
       "      <th></th>\n",
       "      <th>year</th>\n",
       "      <th>make</th>\n",
       "      <th>model</th>\n",
       "      <th>body</th>\n",
       "      <th>transmission</th>\n",
       "      <th>condition</th>\n",
       "      <th>odometer</th>\n",
       "      <th>color</th>\n",
       "      <th>interior</th>\n",
       "      <th>seller</th>\n",
       "      <th>mmr</th>\n",
       "      <th>sellingprice</th>\n",
       "    </tr>\n",
       "  </thead>\n",
       "  <tbody>\n",
       "    <tr>\n",
       "      <th>0</th>\n",
       "      <td>2015</td>\n",
       "      <td>24</td>\n",
       "      <td>640</td>\n",
       "      <td>35</td>\n",
       "      <td>0</td>\n",
       "      <td>5.0</td>\n",
       "      <td>16639.0</td>\n",
       "      <td>17</td>\n",
       "      <td>1</td>\n",
       "      <td>6551</td>\n",
       "      <td>20500</td>\n",
       "      <td>21500</td>\n",
       "    </tr>\n",
       "    <tr>\n",
       "      <th>1</th>\n",
       "      <td>2015</td>\n",
       "      <td>24</td>\n",
       "      <td>640</td>\n",
       "      <td>35</td>\n",
       "      <td>0</td>\n",
       "      <td>5.0</td>\n",
       "      <td>9393.0</td>\n",
       "      <td>17</td>\n",
       "      <td>0</td>\n",
       "      <td>6551</td>\n",
       "      <td>20800</td>\n",
       "      <td>21500</td>\n",
       "    </tr>\n",
       "    <tr>\n",
       "      <th>2</th>\n",
       "      <td>2014</td>\n",
       "      <td>3</td>\n",
       "      <td>8</td>\n",
       "      <td>36</td>\n",
       "      <td>0</td>\n",
       "      <td>4.5</td>\n",
       "      <td>1331.0</td>\n",
       "      <td>7</td>\n",
       "      <td>1</td>\n",
       "      <td>4517</td>\n",
       "      <td>31900</td>\n",
       "      <td>30000</td>\n",
       "    </tr>\n",
       "    <tr>\n",
       "      <th>3</th>\n",
       "      <td>2015</td>\n",
       "      <td>51</td>\n",
       "      <td>578</td>\n",
       "      <td>36</td>\n",
       "      <td>0</td>\n",
       "      <td>4.1</td>\n",
       "      <td>14282.0</td>\n",
       "      <td>17</td>\n",
       "      <td>1</td>\n",
       "      <td>12612</td>\n",
       "      <td>27500</td>\n",
       "      <td>27750</td>\n",
       "    </tr>\n",
       "    <tr>\n",
       "      <th>4</th>\n",
       "      <td>2014</td>\n",
       "      <td>3</td>\n",
       "      <td>33</td>\n",
       "      <td>36</td>\n",
       "      <td>0</td>\n",
       "      <td>4.3</td>\n",
       "      <td>2641.0</td>\n",
       "      <td>7</td>\n",
       "      <td>1</td>\n",
       "      <td>4517</td>\n",
       "      <td>66000</td>\n",
       "      <td>67000</td>\n",
       "    </tr>\n",
       "    <tr>\n",
       "      <th>...</th>\n",
       "      <td>...</td>\n",
       "      <td>...</td>\n",
       "      <td>...</td>\n",
       "      <td>...</td>\n",
       "      <td>...</td>\n",
       "      <td>...</td>\n",
       "      <td>...</td>\n",
       "      <td>...</td>\n",
       "      <td>...</td>\n",
       "      <td>...</td>\n",
       "      <td>...</td>\n",
       "      <td>...</td>\n",
       "    </tr>\n",
       "    <tr>\n",
       "      <th>558805</th>\n",
       "      <td>2011</td>\n",
       "      <td>3</td>\n",
       "      <td>25</td>\n",
       "      <td>36</td>\n",
       "      <td>0</td>\n",
       "      <td>3.9</td>\n",
       "      <td>66403.0</td>\n",
       "      <td>17</td>\n",
       "      <td>3</td>\n",
       "      <td>6851</td>\n",
       "      <td>20300</td>\n",
       "      <td>22800</td>\n",
       "    </tr>\n",
       "    <tr>\n",
       "      <th>558807</th>\n",
       "      <td>2012</td>\n",
       "      <td>41</td>\n",
       "      <td>6</td>\n",
       "      <td>11</td>\n",
       "      <td>0</td>\n",
       "      <td>5.0</td>\n",
       "      <td>54393.0</td>\n",
       "      <td>17</td>\n",
       "      <td>1</td>\n",
       "      <td>5880</td>\n",
       "      <td>30200</td>\n",
       "      <td>30800</td>\n",
       "    </tr>\n",
       "    <tr>\n",
       "      <th>558808</th>\n",
       "      <td>2012</td>\n",
       "      <td>3</td>\n",
       "      <td>725</td>\n",
       "      <td>35</td>\n",
       "      <td>0</td>\n",
       "      <td>4.8</td>\n",
       "      <td>50561.0</td>\n",
       "      <td>1</td>\n",
       "      <td>1</td>\n",
       "      <td>4517</td>\n",
       "      <td>29800</td>\n",
       "      <td>34000</td>\n",
       "    </tr>\n",
       "    <tr>\n",
       "      <th>558809</th>\n",
       "      <td>2015</td>\n",
       "      <td>36</td>\n",
       "      <td>63</td>\n",
       "      <td>76</td>\n",
       "      <td>0</td>\n",
       "      <td>3.8</td>\n",
       "      <td>16658.0</td>\n",
       "      <td>17</td>\n",
       "      <td>1</td>\n",
       "      <td>4178</td>\n",
       "      <td>15100</td>\n",
       "      <td>11100</td>\n",
       "    </tr>\n",
       "    <tr>\n",
       "      <th>558810</th>\n",
       "      <td>2014</td>\n",
       "      <td>14</td>\n",
       "      <td>256</td>\n",
       "      <td>38</td>\n",
       "      <td>0</td>\n",
       "      <td>3.4</td>\n",
       "      <td>15008.0</td>\n",
       "      <td>7</td>\n",
       "      <td>6</td>\n",
       "      <td>4786</td>\n",
       "      <td>29600</td>\n",
       "      <td>26700</td>\n",
       "    </tr>\n",
       "  </tbody>\n",
       "</table>\n",
       "<p>481757 rows × 12 columns</p>\n",
       "</div>"
      ],
      "text/plain": [
       "        year  make  model  body  transmission  condition  odometer  color  \\\n",
       "0       2015    24    640    35             0        5.0   16639.0     17   \n",
       "1       2015    24    640    35             0        5.0    9393.0     17   \n",
       "2       2014     3      8    36             0        4.5    1331.0      7   \n",
       "3       2015    51    578    36             0        4.1   14282.0     17   \n",
       "4       2014     3     33    36             0        4.3    2641.0      7   \n",
       "...      ...   ...    ...   ...           ...        ...       ...    ...   \n",
       "558805  2011     3     25    36             0        3.9   66403.0     17   \n",
       "558807  2012    41      6    11             0        5.0   54393.0     17   \n",
       "558808  2012     3    725    35             0        4.8   50561.0      1   \n",
       "558809  2015    36     63    76             0        3.8   16658.0     17   \n",
       "558810  2014    14    256    38             0        3.4   15008.0      7   \n",
       "\n",
       "        interior  seller    mmr  sellingprice  \n",
       "0              1    6551  20500         21500  \n",
       "1              0    6551  20800         21500  \n",
       "2              1    4517  31900         30000  \n",
       "3              1   12612  27500         27750  \n",
       "4              1    4517  66000         67000  \n",
       "...          ...     ...    ...           ...  \n",
       "558805         3    6851  20300         22800  \n",
       "558807         1    5880  30200         30800  \n",
       "558808         1    4517  29800         34000  \n",
       "558809         1    4178  15100         11100  \n",
       "558810         6    4786  29600         26700  \n",
       "\n",
       "[481757 rows x 12 columns]"
      ]
     },
     "execution_count": 41,
     "metadata": {},
     "output_type": "execute_result"
    }
   ],
   "source": [
    "#se verifica los datos del dataset a ver si son todos con numeros\n",
    "data_clean"
   ]
  },
  {
   "cell_type": "markdown",
   "metadata": {},
   "source": [
    "Tranformamos la data en datos de entrenamiento y prueba"
   ]
  },
  {
   "cell_type": "code",
   "execution_count": 42,
   "metadata": {
    "id": "c4A2vUk4OgO8"
   },
   "outputs": [],
   "source": [
    "#Importa las librerias para model_seleccion\n",
    "from sklearn.model_selection import train_test_split\n",
    "#Selecciona los valores independientes y dependientes\n",
    "X = data_clean.drop('transmission',axis=1)\n",
    "Y = data_clean['transmission']\n",
    "#Hacemos el split de datos de prueba y de test tomando el 25% de los datos para el test con una aleatriedad de cero(0)\n",
    "X_train, X_test, y_train, y_test = train_test_split(X, Y, test_size = 0.25, random_state = 0)"
   ]
  },
  {
   "cell_type": "markdown",
   "metadata": {},
   "source": [
    "Estandarizamos la informacion "
   ]
  },
  {
   "cell_type": "code",
   "execution_count": 44,
   "metadata": {
    "id": "PZV_x7rIMCL3"
   },
   "outputs": [],
   "source": [
    "#importa las funcion estandarScaler para estandarizar los datos \n",
    "from sklearn.preprocessing import StandardScaler\n",
    "#Se denomina una variable sc\n",
    "sc = StandardScaler()\n",
    "\n",
    "#Estadarizar los datos de entrenamiento y los datos de test\n",
    "X_train = sc.fit_transform(X_train)\n",
    "X_test = sc.transform(X_test)"
   ]
  },
  {
   "cell_type": "markdown",
   "metadata": {},
   "source": [
    "Aplicamos el algoritmo de naive Bayes"
   ]
  },
  {
   "cell_type": "code",
   "execution_count": 45,
   "metadata": {
    "colab": {
     "base_uri": "https://localhost:8080/"
    },
    "id": "Zoz-R-_1ODFU",
    "outputId": "2dff5df6-219b-47e3-ca19-831c0cb7ee4b"
   },
   "outputs": [
    {
     "data": {
      "text/plain": [
       "GaussianNB()"
      ]
     },
     "execution_count": 45,
     "metadata": {},
     "output_type": "execute_result"
    }
   ],
   "source": [
    "#importa las librerias de naive Bayes\n",
    "from sklearn.naive_bayes import GaussianNB\n",
    "#se guarda el clasificador  NB en la variable classifier\n",
    "classifier = GaussianNB()\n",
    "#Aqui se ocupa la opcion fit para entrenar los datos de NB \n",
    "classifier.fit(X_train, y_train)"
   ]
  },
  {
   "cell_type": "markdown",
   "metadata": {},
   "source": [
    "Invocamos las metricas para evaluar el modelo\n"
   ]
  },
  {
   "cell_type": "code",
   "execution_count": 47,
   "metadata": {
    "colab": {
     "base_uri": "https://localhost:8080/"
    },
    "id": "n416JyyAPaSa",
    "outputId": "aeea3285-734c-485b-ec23-50ddb88fbf17"
   },
   "outputs": [
    {
     "name": "stdout",
     "output_type": "stream",
     "text": [
      "Accuracy score : 0.9547658585187645\n",
      "porcentaje de Accuracy score : 95.47658585187645%\n"
     ]
    }
   ],
   "source": [
    "#Importamos los datos para el accuracy \n",
    "from sklearn.metrics import accuracy_score\n",
    "#Aplicamos el algoritmo para predicir los datos de prueba para el accuracy\n",
    "y_pred_bayes = classifier.predict(X_test)\n",
    "#Guardamos el accuracy en la variable que se denomino acc\n",
    "acc = accuracy_score(y_test, y_pred_bayes)\n",
    "#imprimimos el resultado de la pocision \n",
    "print(f\"Accuracy score : {acc}\")\n",
    "#imprimimos el resultado en porcentaje de precision\n",
    "print(f\"porcentaje de Accuracy score : {acc * 100}%\")"
   ]
  },
  {
   "cell_type": "markdown",
   "metadata": {
    "id": "R9ZAyYdAPoeI"
   },
   "source": [
    "##Matriz de Confusion"
   ]
  },
  {
   "cell_type": "code",
   "execution_count": 50,
   "metadata": {
    "colab": {
     "base_uri": "https://localhost:8080/",
     "height": 283
    },
    "id": "Jzb9oL9dPriq",
    "outputId": "eedbf94a-c295-460a-8509-ea265b9934cd"
   },
   "outputs": [
    {
     "name": "stdout",
     "output_type": "stream",
     "text": [
      "Requirement already satisfied: seaborn in c:\\programdata\\anaconda3\\lib\\site-packages (0.11.2)\n",
      "Requirement already satisfied: numpy>=1.15 in c:\\programdata\\anaconda3\\lib\\site-packages (from seaborn) (1.20.3)\n",
      "Requirement already satisfied: matplotlib>=2.2 in c:\\programdata\\anaconda3\\lib\\site-packages (from seaborn) (3.4.3)\n",
      "Requirement already satisfied: scipy>=1.0 in c:\\programdata\\anaconda3\\lib\\site-packages (from seaborn) (1.7.1)\n",
      "Requirement already satisfied: pandas>=0.23 in c:\\programdata\\anaconda3\\lib\\site-packages (from seaborn) (1.3.4)\n",
      "Requirement already satisfied: pyparsing>=2.2.1 in c:\\programdata\\anaconda3\\lib\\site-packages (from matplotlib>=2.2->seaborn) (3.0.4)\n",
      "Requirement already satisfied: cycler>=0.10 in c:\\programdata\\anaconda3\\lib\\site-packages (from matplotlib>=2.2->seaborn) (0.10.0)\n",
      "Requirement already satisfied: python-dateutil>=2.7 in c:\\programdata\\anaconda3\\lib\\site-packages (from matplotlib>=2.2->seaborn) (2.8.2)\n",
      "Requirement already satisfied: pillow>=6.2.0 in c:\\programdata\\anaconda3\\lib\\site-packages (from matplotlib>=2.2->seaborn) (8.4.0)\n",
      "Requirement already satisfied: kiwisolver>=1.0.1 in c:\\programdata\\anaconda3\\lib\\site-packages (from matplotlib>=2.2->seaborn) (1.3.1)\n",
      "Requirement already satisfied: six in c:\\programdata\\anaconda3\\lib\\site-packages (from cycler>=0.10->matplotlib>=2.2->seaborn) (1.16.0)\n",
      "Requirement already satisfied: pytz>=2017.3 in c:\\programdata\\anaconda3\\lib\\site-packages (from pandas>=0.23->seaborn) (2021.3)\n"
     ]
    }
   ],
   "source": [
    "#Intalar las librerias\n",
    "!pip install seaborn\n",
    "#confusion_matrix  libreria sklearn\n",
    "from sklearn.metrics import confusion_matrix\n",
    "#  acurracy_score  libreria sklearn\n",
    "from sklearn.metrics import accuracy_score\n",
    "import seaborn as sns\n"
   ]
  },
  {
   "cell_type": "code",
   "execution_count": 53,
   "metadata": {
    "id": "B9CU1T0ftPlp"
   },
   "outputs": [
    {
     "name": "stdout",
     "output_type": "stream",
     "text": [
      "[[114808   1482]\n",
      " [  3966    184]]\n"
     ]
    }
   ],
   "source": [
    "#Para mostrar los valores de  la matriz de confuncion\n",
    "print(confusion_matrix(y_test, y_pred_bayes))\n"
   ]
  },
  {
   "cell_type": "code",
   "execution_count": 55,
   "metadata": {
    "id": "7rzk12lwPs6v"
   },
   "outputs": [
    {
     "data": {
      "text/plain": [
       "<AxesSubplot:>"
      ]
     },
     "execution_count": 55,
     "metadata": {},
     "output_type": "execute_result"
    },
    {
     "data": {
      "image/png": "[encoded data removed]",
      "text/plain": [
       "<Figure size 432x288 with 2 Axes>"
      ]
     },
     "metadata": {
      "needs_background": "light"
     },
     "output_type": "display_data"
    }
   ],
   "source": [
    "# Presentamos de forma estetica la matriz de confución con un mapa de calor\n",
    "sns.heatmap(confusion_matrix(y_test, y_pred_bayes), annot=True)"
   ]
  },
  {
   "cell_type": "markdown",
   "metadata": {
    "id": "M9IEVKAWQXfU"
   },
   "source": [
    "#Hiden Markov Models"
   ]
  },
  {
   "cell_type": "code",
   "execution_count": 56,
   "metadata": {
    "colab": {
     "base_uri": "https://localhost:8080/"
    },
    "id": "5WOhLmAsQaHw",
    "outputId": "52954d4d-38f9-44bb-f42c-915a06053ae2"
   },
   "outputs": [
    {
     "name": "stdout",
     "output_type": "stream",
     "text": [
      "Collecting hmmlearn\n",
      "  Downloading hmmlearn-0.2.7-cp39-cp39-win_amd64.whl (100 kB)\n",
      "Requirement already satisfied: numpy>=1.10 in c:\\programdata\\anaconda3\\lib\\site-packages (from hmmlearn) (1.20.3)\n",
      "Requirement already satisfied: scikit-learn>=0.16 in c:\\programdata\\anaconda3\\lib\\site-packages (from hmmlearn) (0.24.2)\n",
      "Requirement already satisfied: scipy>=0.19 in c:\\programdata\\anaconda3\\lib\\site-packages (from hmmlearn) (1.7.1)\n",
      "Requirement already satisfied: threadpoolctl>=2.0.0 in c:\\programdata\\anaconda3\\lib\\site-packages (from scikit-learn>=0.16->hmmlearn) (2.2.0)\n",
      "Requirement already satisfied: joblib>=0.11 in c:\\programdata\\anaconda3\\lib\\site-packages (from scikit-learn>=0.16->hmmlearn) (1.1.0)\n",
      "Installing collected packages: hmmlearn\n",
      "Successfully installed hmmlearn-0.2.7\n"
     ]
    }
   ],
   "source": [
    "#Intalar las librerias de hmmlearn para generar los modellos ocultos de Markov\n",
    "!pip install hmmlearn\n"
   ]
  },
  {
   "cell_type": "code",
   "execution_count": 58,
   "metadata": {
    "colab": {
     "base_uri": "https://localhost:8080/"
    },
    "id": "G8rprRARQ27A",
    "outputId": "255cfd07-e8b4-4909-ecdc-aaccf0db5f56"
   },
   "outputs": [
    {
     "data": {
      "text/plain": [
       "GaussianHMM(n_components=2, n_iter=1000, random_state=50)"
      ]
     },
     "execution_count": 58,
     "metadata": {},
     "output_type": "execute_result"
    }
   ],
   "source": [
    "#Llamar al modolu de hmn\n",
    "from hmmlearn import hmm\n",
    "# Instanciamos el modelo Hidden Markov Model\n",
    "model = hmm.GaussianHMM(n_components = 2, covariance_type = \"diag\", n_iter = 1000, random_state = 50)\n",
    "# Entrenamos el modelo con los datos de entrenamiento\n",
    "model.fit(X_train)"
   ]
  },
  {
   "cell_type": "code",
   "execution_count": 59,
   "metadata": {
    "id": "7-mQM2XvQ3bw"
   },
   "outputs": [],
   "source": [
    "# realizamos la prueba de predicción del model\n",
    "y_pred_Markov = model.predict(X_test)"
   ]
  },
  {
   "cell_type": "code",
   "execution_count": 60,
   "metadata": {
    "colab": {
     "base_uri": "https://localhost:8080/"
    },
    "id": "ouwPEBWWSH88",
    "outputId": "a7e738ed-1063-48c9-c92c-4bff13632ab9"
   },
   "outputs": [
    {
     "data": {
      "text/plain": [
       "array([0, 0, 0, ..., 1, 1, 1], dtype=int64)"
      ]
     },
     "execution_count": 60,
     "metadata": {},
     "output_type": "execute_result"
    }
   ],
   "source": [
    "#El resultado que da segun la cantidad de los datos de los test\n",
    "y_pred_Markov"
   ]
  },
  {
   "cell_type": "code",
   "execution_count": 62,
   "metadata": {
    "colab": {
     "base_uri": "https://localhost:8080/"
    },
    "id": "rF48cB46REJ-",
    "outputId": "8f324f8b-0031-439c-f508-21f0a267e9e8"
   },
   "outputs": [
    {
     "name": "stdout",
     "output_type": "stream",
     "text": [
      "Accuracy Hidden Markov Model:\n",
      "Accuracy score : 0.6130106276984391\n",
      "porcentaje de Accuracy score : 61.30106276984391%\n"
     ]
    }
   ],
   "source": [
    "#Evaluar el accuracy\n",
    "from sklearn import metrics\n",
    "#imprimir el resultao\n",
    "print(\"Accuracy Hidden Markov Model:\")\n",
    "acc_hmn=metrics.accuracy_score(y_test, y_pred_Markov)\n",
    "#imprimimos el resultado de la pocision \n",
    "print(f\"Accuracy score : {acc_hmn}\")\n",
    "#imprimimos el resultado en porcentaje de precision\n",
    "print(f\"porcentaje de Accuracy score : {acc_hmn * 100}%\")\n"
   ]
  },
  {
   "cell_type": "markdown",
   "metadata": {
    "id": "hWpLJd7dRkGV"
   },
   "source": [
    "##Matriz de Confusion "
   ]
  },
  {
   "cell_type": "code",
   "execution_count": 63,
   "metadata": {
    "colab": {
     "base_uri": "https://localhost:8080/",
     "height": 283
    },
    "id": "DVOeiSQ3RKhU",
    "outputId": "fe4b92ae-9c22-42bb-f6bc-3d69f2e8330d"
   },
   "outputs": [
    {
     "name": "stdout",
     "output_type": "stream",
     "text": [
      "[[71583 44707]\n",
      " [ 1902  2248]]\n"
     ]
    }
   ],
   "source": [
    "#confusion_matrix  libreria sklearn\n",
    "from sklearn.metrics import confusion_matrix\n",
    "#  acurracy_score  libreria sklearn\n",
    "from sklearn.metrics import accuracy_score\n",
    "import seaborn as sns\n",
    "#Para mostrar los valores de  la matriz de confuncion\n",
    "print(confusion_matrix(y_test, y_pred_Markov))\n",
    "\n"
   ]
  },
  {
   "cell_type": "code",
   "execution_count": 64,
   "metadata": {},
   "outputs": [
    {
     "data": {
      "text/plain": [
       "<AxesSubplot:>"
      ]
     },
     "execution_count": 64,
     "metadata": {},
     "output_type": "execute_result"
    },
    {
     "data": {
      "image/png": "[encoded data removed]",
      "text/plain": [
       "<Figure size 432x288 with 2 Axes>"
      ]
     },
     "metadata": {
      "needs_background": "light"
     },
     "output_type": "display_data"
    }
   ],
   "source": [
    "# Presentamos de forma estetica la matriz de confución\n",
    "sns.heatmap(confusion_matrix(y_test, y_pred_Markov), annot=True)"
   ]
  },
  {
   "cell_type": "markdown",
   "metadata": {
    "id": "Tfcemfp-S_NE"
   },
   "source": [
    "#Probabilistic fuzzy Logic"
   ]
  },
  {
   "cell_type": "code",
   "execution_count": 65,
   "metadata": {
    "colab": {
     "base_uri": "https://localhost:8080/"
    },
    "id": "68cP2DM7Rrao",
    "outputId": "d2f325f8-37ff-4fa1-f12d-3f97648f5da3"
   },
   "outputs": [
    {
     "name": "stdout",
     "output_type": "stream",
     "text": [
      "Collecting scikit-fuzzy\n",
      "  Downloading scikit-fuzzy-0.4.2.tar.gz (993 kB)\n",
      "Requirement already satisfied: numpy>=1.6.0 in c:\\programdata\\anaconda3\\lib\\site-packages (from scikit-fuzzy) (1.20.3)\n",
      "Requirement already satisfied: scipy>=0.9.0 in c:\\programdata\\anaconda3\\lib\\site-packages (from scikit-fuzzy) (1.7.1)\n",
      "Requirement already satisfied: networkx>=1.9.0 in c:\\programdata\\anaconda3\\lib\\site-packages (from scikit-fuzzy) (2.6.3)\n",
      "Building wheels for collected packages: scikit-fuzzy\n",
      "  Building wheel for scikit-fuzzy (setup.py): started\n",
      "  Building wheel for scikit-fuzzy (setup.py): finished with status 'done'\n",
      "  Created wheel for scikit-fuzzy: filename=scikit_fuzzy-0.4.2-py3-none-any.whl size=894089 sha256=e5326ffba3a05034e9998574715c55e0cfe9b3516e2c39762e06fbb21f20a42d\n",
      "  Stored in directory: c:\\users\\user\\appdata\\local\\pip\\cache\\wheels\\32\\2c\\a1\\a90a7d7dd8448ec029f298a61f3490275e99b17aa348be675c\n",
      "Successfully built scikit-fuzzy\n",
      "Installing collected packages: scikit-fuzzy\n",
      "Successfully installed scikit-fuzzy-0.4.2\n"
     ]
    }
   ],
   "source": [
    "#Instalacion de scikit-fuzzy logica difusa\n",
    "!pip install -U scikit-fuzzy\n",
    "import numpy as np\n",
    "import skfuzzy as fuzz\n",
    "#Importar la funcion control logica difusa para crear sistema de control\n",
    "from skfuzzy import control as ctrl"
   ]
  },
  {
   "cell_type": "code",
   "execution_count": 66,
   "metadata": {
    "colab": {
     "base_uri": "https://localhost:8080/"
    },
    "id": "5uuhbhgr7g6q",
    "outputId": "4841b6c1-bd62-4cbb-d875-d3f028782328"
   },
   "outputs": [
    {
     "name": "stdout",
     "output_type": "stream",
     "text": [
      "5.0\n",
      "182000\n"
     ]
    }
   ],
   "source": [
    "#imprime los valores maximo de condicion y mmr(caracteristica de los vehiculos carga maxima q puede remolcar el auto)\n",
    "#para generar los rangos de las funciones de membreca\n",
    "print(data_clean['condition'].max())\n",
    "print(data_clean['mmr'].max())"
   ]
  },
  {
   "cell_type": "code",
   "execution_count": 67,
   "metadata": {},
   "outputs": [
    {
     "name": "stdout",
     "output_type": "stream",
     "text": [
      "1.0\n",
      "25\n"
     ]
    }
   ],
   "source": [
    "#imprime los valores minimos de condicion y mmr(caracteristica de los vehiculos carga minimos q puede remolcar el auto)\n",
    "#para generar los rangos de las funciones de membreca\n",
    "print(data_clean['condition'].min())\n",
    "print(data_clean['mmr'].min())"
   ]
  },
  {
   "cell_type": "markdown",
   "metadata": {},
   "source": [
    "colocamos las funciones de menbresia"
   ]
  },
  {
   "cell_type": "code",
   "execution_count": 69,
   "metadata": {
    "id": "uwcR0zFX7xpZ"
   },
   "outputs": [],
   "source": [
    "#creamos las funciones de membresia para la condicion de mmr\n",
    "condition = ctrl.Antecedent(np.arange(1, 5, 0.1), 'condition')\n",
    "MMR = ctrl.Antecedent(np.arange(25, 182000, 1), 'mmr')\n",
    "#creamos la funcion d emembresia para el tipo de transmicion si es automatica o manual\n",
    "Trasm = ctrl.Consequent(np.arange(0, 10, 1), 'Trasm')\n"
   ]
  },
  {
   "cell_type": "code",
   "execution_count": 70,
   "metadata": {
    "colab": {
     "base_uri": "https://localhost:8080/",
     "height": 281
    },
    "id": "ahdD-MfY_a8K",
    "outputId": "e3e20c53-69f7-438d-a90c-fa187f3da692"
   },
   "outputs": [],
   "source": [
    "#Se crea los 3 rangos de las funciones\n",
    "condition.automf(3)\n",
    "MMR.automf(3)\n",
    "Trasm.automf(3)\n",
    "##Determinamos el conjunto universo y la correspondiente consecuencia (tipo de trasnmision)\n",
    "Trasm['Trams_Automatic'] = fuzz.trimf(Trasm.universe, [0, 0,4])\n",
    "Trasm['Trams_Manual'] = fuzz.trimf(Trasm.universe, [0,4,5])\n",
    "Trasm['Trams_Manual'] = fuzz.trimf(Trasm.universe, [4,5,10])\n",
    "\n"
   ]
  },
  {
   "cell_type": "code",
   "execution_count": 80,
   "metadata": {},
   "outputs": [
    {
     "name": "stderr",
     "output_type": "stream",
     "text": [
      "C:\\ProgramData\\Anaconda3\\lib\\site-packages\\skfuzzy\\control\\term.py:74: UserWarning: Matplotlib is currently using module://matplotlib_inline.backend_inline, which is a non-GUI backend, so cannot show the figure.\n",
      "  fig.show()\n"
     ]
    },
    {
     "data": {
      "image/png": "[encoded data removed]",
      "text/plain": [
       "<Figure size 432x288 with 1 Axes>"
      ]
     },
     "metadata": {
      "needs_background": "light"
     },
     "output_type": "display_data"
    }
   ],
   "source": [
    "\n",
    "#grafica la uncion de membresia de la condicion\n",
    "condition['average'].view()\n"
   ]
  },
  {
   "cell_type": "code",
   "execution_count": 81,
   "metadata": {
    "colab": {
     "base_uri": "https://localhost:8080/",
     "height": 281
    },
    "id": "em1b3t9b_fYS",
    "outputId": "be080217-3242-4bd3-ea5a-a70edfc99ea1"
   },
   "outputs": [
    {
     "name": "stderr",
     "output_type": "stream",
     "text": [
      "C:\\ProgramData\\Anaconda3\\lib\\site-packages\\skfuzzy\\control\\term.py:74: UserWarning: Matplotlib is currently using module://matplotlib_inline.backend_inline, which is a non-GUI backend, so cannot show the figure.\n",
      "  fig.show()\n"
     ]
    },
    {
     "data": {
      "image/png": "[encoded data removed]",
      "text/plain": [
       "<Figure size 432x288 with 1 Axes>"
      ]
     },
     "metadata": {
      "needs_background": "light"
     },
     "output_type": "display_data"
    }
   ],
   "source": [
    "\n",
    "MMR['average'].view()"
   ]
  },
  {
   "cell_type": "code",
   "execution_count": 40,
   "metadata": {
    "colab": {
     "base_uri": "https://localhost:8080/",
     "height": 281
    },
    "id": "Bee__tURKaEW",
    "outputId": "d758352e-f9d1-4acf-ac4b-b9bbadc0604b"
   },
   "outputs": [
    {
     "data": {
      "image/png": "[encoded data removed]",
      "text/plain": [
       "<Figure size 432x288 with 1 Axes>"
      ]
     },
     "metadata": {
      "needs_background": "light"
     },
     "output_type": "display_data"
    }
   ],
   "source": [
    "#muestra la probabilidad \n",
    "Trasm['average'].view()"
   ]
  },
  {
   "cell_type": "markdown",
   "metadata": {},
   "source": [
    "Proponemos las reglas difusas"
   ]
  },
  {
   "cell_type": "code",
   "execution_count": 83,
   "metadata": {
    "id": "Kl7CUgeUAvF5"
   },
   "outputs": [],
   "source": [
    "#Reglas\n",
    "rule1 = ctrl.Rule(condition['poor'] | MMR['poor'], Trasm['Trams_Automatic'])\n",
    "#condicion meia la capacidad del auto es buena entonces es manual\n",
    "rule2 = ctrl.Rule(condition['average']& MMR['good']  , Trasm['Trams_Manual'])\n",
    "rule3 = ctrl.Rule(  condition['good']  | MMR['good'] , Trasm['Trams_Manual'])\n",
    "#se une las reglas en funcion de sistema de control\n",
    "trams_ctrl = ctrl.ControlSystem([rule1, rule2, rule3])\n",
    "#Simula la función de control (aplica las funciones de control en los sistemas de control)\n",
    "trams_sis = ctrl.ControlSystemSimulation(trams_ctrl)"
   ]
  },
  {
   "cell_type": "markdown",
   "metadata": {},
   "source": [
    "Colocamos las correspondientes entradas"
   ]
  },
  {
   "cell_type": "code",
   "execution_count": 84,
   "metadata": {
    "id": "qjuIvKOgNbnc"
   },
   "outputs": [],
   "source": [
    "#Agrega las entradas correspondientes al sistema de control va de 1 a 5 mmr rangos altos\n",
    "trams_sis.input['condition'] = 4.7\n",
    "trams_sis.input['mmr'] = 150000\n",
    "#ejecut el sistema de control\n",
    "trams_sis.compute()"
   ]
  },
  {
   "cell_type": "code",
   "execution_count": 85,
   "metadata": {
    "colab": {
     "base_uri": "https://localhost:8080/",
     "height": 299
    },
    "id": "es7fuknROX2-",
    "outputId": "fd35acba-2ff6-486e-cd47-f418cf14ad68"
   },
   "outputs": [
    {
     "name": "stdout",
     "output_type": "stream",
     "text": [
      "6.241911549069634\n"
     ]
    },
    {
     "name": "stderr",
     "output_type": "stream",
     "text": [
      "C:\\ProgramData\\Anaconda3\\lib\\site-packages\\skfuzzy\\control\\fuzzyvariable.py:122: UserWarning: Matplotlib is currently using module://matplotlib_inline.backend_inline, which is a non-GUI backend, so cannot show the figure.\n",
      "  fig.show()\n"
     ]
    },
    {
     "data": {
      "image/png": "[encoded data removed]",
      "text/plain": [
       "<Figure size 432x288 with 1 Axes>"
      ]
     },
     "metadata": {
      "needs_background": "light"
     },
     "output_type": "display_data"
    }
   ],
   "source": [
    "#Imprime la respuesta de tipo transmicion, en un intervalo de 1 a 4 automatico, de 4 a 6 manual\n",
    "print(trams_sis.output['Trasm'])\n",
    "Trasm.view(sim=trams_sis)\n",
    "#6.24 muestra la probabilidad que sea automatica que sea automatico y manual"
   ]
  },
  {
   "cell_type": "code",
   "execution_count": null,
   "metadata": {},
   "outputs": [],
   "source": [
    "#Es mejor el de Bayes por que tiene q ver con las condicionalidades de cada una de las variables sin importar el tiempo(si es automatico o manual no importa el orden) \n",
    "#markov series temporales si importa porque se ve que paso antes \n",
    "#Logica difusa es menos probable xq las condiciones se pone nosotros."
   ]
  }
 ],
 "metadata": {
  "colab": {
   "name": "Clientes.ipynb",
   "provenance": []
  },
  "kernelspec": {
   "display_name": "Python 3 (ipykernel)",
   "language": "python",
   "name": "python3"
  },
  "language_info": {
   "codemirror_mode": {
    "name": "ipython",
    "version": 3
   },
   "file_extension": ".py",
   "mimetype": "text/x-python",
   "name": "python",
   "nbconvert_exporter": "python",
   "pygments_lexer": "ipython3",
   "version": "3.9.7"
  }
 },
 "nbformat": 4,
 "nbformat_minor": 1
}
